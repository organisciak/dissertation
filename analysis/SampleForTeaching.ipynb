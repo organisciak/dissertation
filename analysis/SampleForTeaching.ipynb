{
 "cells": [
  {
   "cell_type": "markdown",
   "metadata": {},
   "source": [
    "# Teaching condition sampling\n",
    "\n",
    "Which items should be used for the teaching set?\n",
    "\n",
    "Ideally, I want to be able to customize the instructions based on what previous contributors provided. However, if I purposively select the toughest examples, this will bias the results, because the other conditions will have those ten extra tough examples, while the teaching condition won't have measurements for the tough examples. Even though it is not ideal, the approach that I'm taking to avoid bias is random sampling."
   ]
  },
  {
   "cell_type": "code",
   "execution_count": 87,
   "metadata": {
    "collapsed": false
   },
   "outputs": [],
   "source": [
    "%matplotlib inline\n",
    "import pandas as pd\n",
    "from pymongo import MongoClient\n",
    "from IPython.display import Image, display, HTML\n",
    "from bson.objectid import ObjectId\n",
    "import random\n",
    "import json\n",
    "client = MongoClient('localhost')\n",
    "db = client['crowdy']"
   ]
  },
  {
   "cell_type": "code",
   "execution_count": 3,
   "metadata": {
    "collapsed": false
   },
   "outputs": [
    {
     "name": "stdout",
     "output_type": "stream",
     "text": [
      "[u'bonus', u'hits', u'pins', u'system.indexes', u'tagqualities', u'tasksets', u'trainingsets', u'turkbackups']\n"
     ]
    }
   ],
   "source": [
    "print db.collection_names()\n",
    "hits = db.hits\n",
    "ts = db.tasksets"
   ]
  },
  {
   "cell_type": "markdown",
   "metadata": {},
   "source": [
    "## Sample Tag Condition"
   ]
  },
  {
   "cell_type": "markdown",
   "metadata": {},
   "source": [
    "Let's grab the list of tags.' All the hits have the items in them, so first I'll pick out a hit and grab the sample list from there."
   ]
  },
  {
   "cell_type": "code",
   "execution_count": 4,
   "metadata": {
    "collapsed": false,
    "scrolled": false
   },
   "outputs": [
    {
     "data": {
      "text/html": [
       "<div>\n",
       "<table border=\"1\" class=\"dataframe\">\n",
       "  <thead>\n",
       "    <tr style=\"text-align: right;\">\n",
       "      <th></th>\n",
       "      <th>_id</th>\n",
       "      <th>name</th>\n",
       "    </tr>\n",
       "  </thead>\n",
       "  <tbody>\n",
       "    <tr>\n",
       "      <th>0</th>\n",
       "      <td>55911fb049eb7fef15c0f5c2</td>\n",
       "      <td>first-pin-tagging-basic-basic</td>\n",
       "    </tr>\n",
       "    <tr>\n",
       "      <th>1</th>\n",
       "      <td>55a48ddcc8f17da574db50b7</td>\n",
       "      <td>pin-tagging-fast-fast-1</td>\n",
       "    </tr>\n",
       "    <tr>\n",
       "      <th>2</th>\n",
       "      <td>55b590a40850a14a81376f89</td>\n",
       "      <td>TESTBASIC</td>\n",
       "    </tr>\n",
       "    <tr>\n",
       "      <th>3</th>\n",
       "      <td>55bc94fb887cb2a616d5b2b3</td>\n",
       "      <td>Test Relevance HIT</td>\n",
       "    </tr>\n",
       "    <tr>\n",
       "      <th>4</th>\n",
       "      <td>55c25383c7ed2ff20c44da12</td>\n",
       "      <td>image-relevance-basic-basic1</td>\n",
       "    </tr>\n",
       "    <tr>\n",
       "      <th>5</th>\n",
       "      <td>55c2e23839121f0919b64293</td>\n",
       "      <td>image-relevance-fast-fast-1-TESTING</td>\n",
       "    </tr>\n",
       "    <tr>\n",
       "      <th>6</th>\n",
       "      <td>55c3021cf7dc871244355b59</td>\n",
       "      <td>image-relevance-fast-fast-1</td>\n",
       "    </tr>\n",
       "    <tr>\n",
       "      <th>7</th>\n",
       "      <td>55c43e3a5560042511d789bc</td>\n",
       "      <td>image-relevance-basic-feedback-TESTING1</td>\n",
       "    </tr>\n",
       "    <tr>\n",
       "      <th>8</th>\n",
       "      <td>55c5576b406503ba27582732</td>\n",
       "      <td>image-relevance-basic-feedback-1-lateFri</td>\n",
       "    </tr>\n",
       "    <tr>\n",
       "      <th>9</th>\n",
       "      <td>55c68b7447110a6718e4f663</td>\n",
       "      <td>first-pin-tagging-basic-feedback</td>\n",
       "    </tr>\n",
       "    <tr>\n",
       "      <th>10</th>\n",
       "      <td>55c866abb3fdf32605049069</td>\n",
       "      <td>image-relevance-training-basic1</td>\n",
       "    </tr>\n",
       "  </tbody>\n",
       "</table>\n",
       "</div>"
      ],
      "text/plain": [
       "                         _id                                      name\n",
       "0   55911fb049eb7fef15c0f5c2             first-pin-tagging-basic-basic\n",
       "1   55a48ddcc8f17da574db50b7                   pin-tagging-fast-fast-1\n",
       "2   55b590a40850a14a81376f89                                 TESTBASIC\n",
       "3   55bc94fb887cb2a616d5b2b3                        Test Relevance HIT\n",
       "4   55c25383c7ed2ff20c44da12              image-relevance-basic-basic1\n",
       "5   55c2e23839121f0919b64293       image-relevance-fast-fast-1-TESTING\n",
       "6   55c3021cf7dc871244355b59               image-relevance-fast-fast-1\n",
       "7   55c43e3a5560042511d789bc   image-relevance-basic-feedback-TESTING1\n",
       "8   55c5576b406503ba27582732  image-relevance-basic-feedback-1-lateFri\n",
       "9   55c68b7447110a6718e4f663          first-pin-tagging-basic-feedback\n",
       "10  55c866abb3fdf32605049069           image-relevance-training-basic1"
      ]
     },
     "execution_count": 4,
     "metadata": {},
     "output_type": "execute_result"
    }
   ],
   "source": [
    "search = hits.find({},{\"name\":1})\n",
    "pd.DataFrame(list(search))"
   ]
  },
  {
   "cell_type": "markdown",
   "metadata": {},
   "source": [
    "\"first-pin-tagging-basic-basic\" will do."
   ]
  },
  {
   "cell_type": "code",
   "execution_count": 82,
   "metadata": {
    "collapsed": false,
    "scrolled": false
   },
   "outputs": [
    {
     "data": {
      "text/plain": [
       "[2.427728546632588e+16,\n",
       " 1.9527333381469443e+17,\n",
       " 1.1934545884538064e+17,\n",
       " 2814818489916730.0,\n",
       " 4.7027438605946976e+17,\n",
       " 3.364330346336472e+17,\n",
       " 1.5129286870590038e+17,\n",
       " 1.6642214870322944e+17,\n",
       " 1.191343526127168e+17,\n",
       " 3.5043641472721856e+17]"
      ]
     },
     "execution_count": 82,
     "metadata": {},
     "output_type": "execute_result"
    }
   ],
   "source": [
    "search = hits.find({'_id':ObjectId(\"55911fb049eb7fef15c0f5c2\")}, {'items':1})\n",
    "items = list(search)[0]['items']\n",
    "random.seed(84754378437982498555547830) #Keyboard mashing\n",
    "sample1 = random.sample(items, 10)\n",
    "random.seed(3432478234) #Keyboard mashing\n",
    "sample2 = random.sample(items, 10)\n",
    "sample1"
   ]
  },
  {
   "cell_type": "markdown",
   "metadata": {},
   "source": [
    "Now lets crossreference that with the judgment information on great, good, ok, and poor tags."
   ]
  },
  {
   "cell_type": "code",
   "execution_count": 93,
   "metadata": {
    "collapsed": false
   },
   "outputs": [
    {
     "name": "stdout",
     "output_type": "stream",
     "text": [
      "{\"items\": [\"24277285466325880\", \"195273333814694432\", \"119345458845380640\", \"2814818489916730\", \"470274386059469760\", \"336433034633647232\", \"151292868705900384\", \"166422148703229440\", \"119134352612716800\", \"350436414727218560\"], \"_id\": \"sample1\", \"answers\": [{\"item\": \"195273333814694432\", \"answers\":...\n",
      "{\"items\": [\"2814818489916730\", \"269230883943533664\", \"104708760057824320\", \"406520303835237888\", \"84161086761367824\", \"18366310953663964\", \"42573158949928880\", \"226798531204491904\", \"386254105513790016\", \"407083253788406464\"], \"_id\": \"sample2\", \"answers\": [{\"item\": \"84161086761367824\", \"answers\": {\"...\n"
     ]
    }
   ],
   "source": [
    "i = 0\n",
    "for sample in [sample1, sample2]:\n",
    "    i += 1\n",
    "    search = db.tagqualities.aggregate([\n",
    "        {'$match':{'item_id':{'$in':sample}}},\n",
    "        {'$group':{'_id':{'item':'$item_id', 'quality':'$quality'}, 'tags':{'$push':'$tag'}}},\n",
    "        {'$group':{'_id':'$_id.item', 'answers':{'$push':{'quality':'$_id.quality', 'tags':'$tags'}}}}\n",
    "    ])\n",
    "    allanswers = list(search)\n",
    "\n",
    "    # Replace answers with associative array\n",
    "    # and rename _id as 'item'\n",
    "    def toObj(l):\n",
    "        d = {}\n",
    "        key = {'1':'poor', '2':'ok', '3':'good', '4':'great'}\n",
    "        for qual in l:\n",
    "            d[key[qual['quality']]] = qual['tags']\n",
    "        return d\n",
    "\n",
    "    for item in allanswers:\n",
    "        item['item'] = \"%.0f\" % item['_id']\n",
    "        del item['_id']\n",
    "        item['answers'] = toObj(item['answers'])\n",
    "        item['teaching'] = {'tips':\"\"}\n",
    "\n",
    "    data = {'_id':('sample%d'%i), 'items':['%.0f'%s for s in sample], 'answers':allanswers}\n",
    "    print json.dumps(data)[:300] + \"...\"\n",
    "    \n",
    "    f = open('../data/turk/training-tag-sample%d.json' % i, 'w+')\n",
    "    json.dump(data,f, indent=2)\n",
    "    f.close()"
   ]
  },
  {
   "cell_type": "markdown",
   "metadata": {},
   "source": [
    "That's it. The rest is manually encoded in the teaching set file. For each cross-reference, here is the image information"
   ]
  },
  {
   "cell_type": "code",
   "execution_count": 90,
   "metadata": {
    "collapsed": false,
    "scrolled": false
   },
   "outputs": [
    {
     "name": "stdout",
     "output_type": "stream",
     "text": [
      "24277285466325880\n",
      "Outdoor Living||Image Via: A Pair and A Spare DIY\n"
     ]
    },
    {
     "data": {
      "text/html": [
       "<img src=\"https://crowdycrowdy.com/images/s-media-cache-ak0.pinimg.com/236x/a8/e2/b5/a8e2b5894b8262e77da7b0fdf1821374.jpg\"/>"
      ],
      "text/plain": [
       "<IPython.core.display.Image object>"
      ]
     },
     "metadata": {},
     "output_type": "display_data"
    },
    {
     "name": "stdout",
     "output_type": "stream",
     "text": [
      "195273333814694432\n",
      "Nails||Burgundy French Nails style\n"
     ]
    },
    {
     "data": {
      "text/html": [
       "<img src=\"https://crowdycrowdy.com/images/s-media-cache-ak0.pinimg.com/236x/b2/b9/82/b2b9829aae2ec7dd0fe735e76812f580.jpg\"/>"
      ],
      "text/plain": [
       "<IPython.core.display.Image object>"
      ]
     },
     "metadata": {},
     "output_type": "display_data"
    },
    {
     "name": "stdout",
     "output_type": "stream",
     "text": [
      "119345458845380640\n",
      "Cookies and other mini delights||So, so appealingly delicious: Salted Caramel Bars.\n"
     ]
    },
    {
     "data": {
      "text/html": [
       "<img src=\"https://crowdycrowdy.com/images/s-media-cache-ak0.pinimg.com/236x/b2/3f/9a/b23f9a42a6e495e0a0da1200e3f117bc.jpg\"/>"
      ],
      "text/plain": [
       "<IPython.core.display.Image object>"
      ]
     },
     "metadata": {},
     "output_type": "display_data"
    },
    {
     "name": "stdout",
     "output_type": "stream",
     "text": [
      "2814818489916730\n",
      "{ blythe dolos }||Blythe ... Minime\n"
     ]
    },
    {
     "data": {
      "text/html": [
       "<img src=\"https://crowdycrowdy.com/images/s-media-cache-ak0.pinimg.com/236x/62/c8/f6/62c8f62be624c2c052d306da7bebd44c.jpg\"/>"
      ],
      "text/plain": [
       "<IPython.core.display.Image object>"
      ]
     },
     "metadata": {},
     "output_type": "display_data"
    },
    {
     "name": "stdout",
     "output_type": "stream",
     "text": [
      "470274386059469760\n",
      "MARK TEIXEIRA #25||Mark Teixeira\n"
     ]
    },
    {
     "data": {
      "text/html": [
       "<img src=\"https://crowdycrowdy.com/images/s-media-cache-ak0.pinimg.com/236x/19/df/52/19df529938b392be233a72cf9f489734.jpg\"/>"
      ],
      "text/plain": [
       "<IPython.core.display.Image object>"
      ]
     },
     "metadata": {},
     "output_type": "display_data"
    },
    {
     "name": "stdout",
     "output_type": "stream",
     "text": [
      "336433034633647232\n",
      "My style.. ||SMYKKER - SOPHIE BY SOPHIE / STAR BRACELET - NELLY.COM\n"
     ]
    },
    {
     "data": {
      "text/html": [
       "<img src=\"https://crowdycrowdy.com/images/s-media-cache-ak0.pinimg.com/236x/52/44/3f/52443f7b65f59477f0bbd97dc865f094.jpg\"/>"
      ],
      "text/plain": [
       "<IPython.core.display.Image object>"
      ]
     },
     "metadata": {},
     "output_type": "display_data"
    },
    {
     "name": "stdout",
     "output_type": "stream",
     "text": [
      "151292868705900384\n",
      "NOMAD CHIC swim||http://www.nomad-chic.com/swim.html\n"
     ]
    },
    {
     "data": {
      "text/html": [
       "<img src=\"https://crowdycrowdy.com/images/s-media-cache-ak0.pinimg.com/236x/3d/da/1b/3dda1ba373a077e7908df21bf6a97a58.jpg\"/>"
      ],
      "text/plain": [
       "<IPython.core.display.Image object>"
      ]
     },
     "metadata": {},
     "output_type": "display_data"
    },
    {
     "name": "stdout",
     "output_type": "stream",
     "text": [
      "166422148703229440\n",
      "PHOTOS: Happy 31st Birthday, Prince William!||prince william\n"
     ]
    },
    {
     "data": {
      "text/html": [
       "<img src=\"https://crowdycrowdy.com/images/s-media-cache-ak0.pinimg.com/236x/b9/66/68/b96668044c0d5a93370e6790e3351730.jpg\"/>"
      ],
      "text/plain": [
       "<IPython.core.display.Image object>"
      ]
     },
     "metadata": {},
     "output_type": "display_data"
    },
    {
     "name": "stdout",
     "output_type": "stream",
     "text": [
      "119134352612716800\n",
      "Recipes/Food||Homemade granola.\n"
     ]
    },
    {
     "data": {
      "text/html": [
       "<img src=\"https://crowdycrowdy.com/images/s-media-cache-ak0.pinimg.com/236x/ef/12/ab/ef12ab566f4e961f9ce1e94909e409bc.jpg\"/>"
      ],
      "text/plain": [
       "<IPython.core.display.Image object>"
      ]
     },
     "metadata": {},
     "output_type": "display_data"
    },
    {
     "name": "stdout",
     "output_type": "stream",
     "text": [
      "350436414727218560\n",
      "It's a nurse thing...||Lol funny nurse nursing problems #nurse history of my life\n"
     ]
    },
    {
     "data": {
      "text/html": [
       "<img src=\"https://crowdycrowdy.com/images/s-media-cache-ak0.pinimg.com/236x/ae/9c/4a/ae9c4a31aec7994b46f9f10201df52a4.jpg\"/>"
      ],
      "text/plain": [
       "<IPython.core.display.Image object>"
      ]
     },
     "metadata": {},
     "output_type": "display_data"
    },
    {
     "name": "stdout",
     "output_type": "stream",
     "text": [
      "2814818489916730\n",
      "{ blythe dolos }||Blythe ... Minime\n"
     ]
    },
    {
     "data": {
      "text/html": [
       "<img src=\"https://crowdycrowdy.com/images/s-media-cache-ak0.pinimg.com/236x/62/c8/f6/62c8f62be624c2c052d306da7bebd44c.jpg\"/>"
      ],
      "text/plain": [
       "<IPython.core.display.Image object>"
      ]
     },
     "metadata": {},
     "output_type": "display_data"
    },
    {
     "name": "stdout",
     "output_type": "stream",
     "text": [
      "269230883943533664\n",
      "Food & Drinks||Smoked Salmon Spread in Sourdough Bowl\n"
     ]
    },
    {
     "data": {
      "text/html": [
       "<img src=\"https://crowdycrowdy.com/images/s-media-cache-ak0.pinimg.com/236x/57/f5/b2/57f5b2026bb9e0fd6ae369e29c6e80fc.jpg\"/>"
      ],
      "text/plain": [
       "<IPython.core.display.Image object>"
      ]
     },
     "metadata": {},
     "output_type": "display_data"
    },
    {
     "name": "stdout",
     "output_type": "stream",
     "text": [
      "104708760057824320\n",
      "Food :: Drink||Didn't realise how wrong my way of cooking mushrooms was!\n"
     ]
    },
    {
     "data": {
      "text/html": [
       "<img src=\"https://crowdycrowdy.com/images/s-media-cache-ak0.pinimg.com/236x/5d/ed/e5/5dede5f6c173878f498bef16d4b9ddd4.jpg\"/>"
      ],
      "text/plain": [
       "<IPython.core.display.Image object>"
      ]
     },
     "metadata": {},
     "output_type": "display_data"
    },
    {
     "name": "stdout",
     "output_type": "stream",
     "text": [
      "406520303835237888\n",
      "Vocaloid/UTAU||#vocaloid #anime\n"
     ]
    },
    {
     "data": {
      "text/html": [
       "<img src=\"https://crowdycrowdy.com/images/s-media-cache-ak0.pinimg.com/236x/44/b6/92/44b692a29217f0b4ec4214eceb0f9544.jpg\"/>"
      ],
      "text/plain": [
       "<IPython.core.display.Image object>"
      ]
     },
     "metadata": {},
     "output_type": "display_data"
    },
    {
     "name": "stdout",
     "output_type": "stream",
     "text": [
      "84161086761367824\n",
      "Krystals baby shower||red queen party theme | queen-of-hearts-engagement-party-dessert-table-01.jpg\n"
     ]
    },
    {
     "data": {
      "text/html": [
       "<img src=\"https://crowdycrowdy.com/images/s-media-cache-ak0.pinimg.com/236x/74/2b/e7/742be76fe47628685337fc0487845464.jpg\"/>"
      ],
      "text/plain": [
       "<IPython.core.display.Image object>"
      ]
     },
     "metadata": {},
     "output_type": "display_data"
    },
    {
     "name": "stdout",
     "output_type": "stream",
     "text": [
      "18366310953663964\n",
      "Fiction||The Hound of the Baskervilles from Pulp! The Classics  See more pulped classics at http://www.ipgbook.com/oldcastle-books-ltd-publisher-OLC.php#by_Imprint_pulp--the-classics\n"
     ]
    },
    {
     "data": {
      "text/html": [
       "<img src=\"https://crowdycrowdy.com/images/s-media-cache-ak0.pinimg.com/236x/61/7e/e4/617ee4ca30af6fba326709a2b74fd7c4.jpg\"/>"
      ],
      "text/plain": [
       "<IPython.core.display.Image object>"
      ]
     },
     "metadata": {},
     "output_type": "display_data"
    },
    {
     "name": "stdout",
     "output_type": "stream",
     "text": [
      "42573158949928880\n",
      "Parties For Girls 2||Beach Seaside Cake\n"
     ]
    },
    {
     "data": {
      "text/html": [
       "<img src=\"https://crowdycrowdy.com/images/s-media-cache-ak0.pinimg.com/236x/4f/0c/3a/4f0c3a7c972d4969484db44468e81e3c.jpg\"/>"
      ],
      "text/plain": [
       "<IPython.core.display.Image object>"
      ]
     },
     "metadata": {},
     "output_type": "display_data"
    },
    {
     "name": "stdout",
     "output_type": "stream",
     "text": [
      "226798531204491904\n",
      "haha||Funny conversations\n"
     ]
    },
    {
     "data": {
      "text/html": [
       "<img src=\"https://crowdycrowdy.com/images/s-media-cache-ak0.pinimg.com/236x/3c/ab/1c/3cab1cdc85b5e7276745e80201e18508.jpg\"/>"
      ],
      "text/plain": [
       "<IPython.core.display.Image object>"
      ]
     },
     "metadata": {},
     "output_type": "display_data"
    },
    {
     "name": "stdout",
     "output_type": "stream",
     "text": [
      "386254105513790016\n",
      "Bonsai||Jeliti 01\n"
     ]
    },
    {
     "data": {
      "text/html": [
       "<img src=\"https://crowdycrowdy.com/images/s-media-cache-ak0.pinimg.com/236x/24/39/31/243931ddbb5d96df45ac9f1501cee2b8.jpg\"/>"
      ],
      "text/plain": [
       "<IPython.core.display.Image object>"
      ]
     },
     "metadata": {},
     "output_type": "display_data"
    },
    {
     "name": "stdout",
     "output_type": "stream",
     "text": [
      "407083253788406464\n",
      "Systems/Networks/Patterns||from Earth Medicine by Kenneth Meadows\n"
     ]
    },
    {
     "data": {
      "text/html": [
       "<img src=\"https://crowdycrowdy.com/images/s-media-cache-ak0.pinimg.com/236x/b9/14/7e/b9147e9237042f11a1e569a95e29ee64.jpg\"/>"
      ],
      "text/plain": [
       "<IPython.core.display.Image object>"
      ]
     },
     "metadata": {},
     "output_type": "display_data"
    }
   ],
   "source": [
    "pins = list(db.pins.aggregate([{'$project':{'image':'$image.236', 'description':1, 'title':1}}]))\n",
    "pinDetails = dict(zip([pin['_id'] for pin in pins], [\"%s||%s\" % (pin['title'], pin['description']) for pin in pins]))\n",
    "pinRef = dict(zip([pin['_id'] for pin in pins], [pin['image'] for pin in pins]))\n",
    "\n",
    "\n",
    "for item in sample1 + sample2:\n",
    "    print \"%.0f\"%item\n",
    "    print pinDetails[item]\n",
    "    display(Image(url=pinRef[item]))"
   ]
  },
  {
   "cell_type": "markdown",
   "metadata": {},
   "source": [
    "## Sample Relevance Judgments\n",
    "\n",
    "First, randomly select 2 queries. These will be used for different conditions."
   ]
  },
  {
   "cell_type": "code",
   "execution_count": 124,
   "metadata": {
    "collapsed": false,
    "scrolled": true
   },
   "outputs": [
    {
     "data": {
      "text/plain": [
       "[{u'_id': ObjectId('55c25383c7ed2ff20c44da1f'),\n",
       "  u'items': [4.094054223486766e+17,\n",
       "   3.158853613339869e+17,\n",
       "   3.187704798480601e+17,\n",
       "   2.1560990088547654e+17,\n",
       "   5.052476519179934e+17,\n",
       "   1.2736749568546998e+17,\n",
       "   4.996885211263089e+17,\n",
       "   4.837851849450169e+17,\n",
       "   3.569807079350651e+17,\n",
       "   2.4488391696345056e+16,\n",
       "   5.554205665139417e+17,\n",
       "   3.965983109093696e+17,\n",
       "   2.5065353548220704e+17,\n",
       "   7.853158722332877e+16,\n",
       "   5.1425485117416403e+17,\n",
       "   5.0545875815085203e+17,\n",
       "   3.598658264470783e+17,\n",
       "   4.911739030811547e+17,\n",
       "   2.923822007810157e+17,\n",
       "   4.5627100596948275e+17,\n",
       "   4.600005494110556e+17,\n",
       "   3.3024058514710886e+17,\n",
       "   4.127127533233578e+17,\n",
       "   4.8329260373437766e+17,\n",
       "   3.945576173273675e+17,\n",
       "   4.4923413154970195e+17,\n",
       "   2.319354495294728e+17,\n",
       "   1.1097157829321018e+17,\n",
       "   4.2333843369454726e+17,\n",
       "   4.032135913863553e+16],\n",
       "  u'meta': {u'good': u'images relating to Islamic religion or Islamic culture, such as prayer or religious congregation; passages of scripture or inspirational quotes related to Islam; information about the Islamic religion',\n",
       "   u'ok': u'images showing architecture or landmarks from places related to the religion; images of people who happen to be muslim',\n",
       "   u'poor': u\"images that don't appear related to Islam without any accompanying text\",\n",
       "   u'query': u'islam'}},\n",
       " {u'_id': ObjectId('55c25383c7ed2ff20c44da1e'),\n",
       "  u'items': [6.628742573520713e+16,\n",
       "   1.0140142908519722e+17,\n",
       "   1.8042552879572896e+17,\n",
       "   1.0963457214988341e+17,\n",
       "   2.7591591464618646e+17,\n",
       "   1.2054172749907099e+17,\n",
       "   2.2405415018217904e+17,\n",
       "   3.0047522487693852e+16,\n",
       "   1.6958874219055494e+17,\n",
       "   1.842958097221378e+17,\n",
       "   5.642870282819294e+17,\n",
       "   3.053300497104697e+17,\n",
       "   3.278480478472041e+17,\n",
       "   1.3229330777913056e+17,\n",
       "   9.281644229242154e+16,\n",
       "   1.8211437865701302e+17,\n",
       "   2.265880434824735e+16,\n",
       "   4.306574015639971e+16,\n",
       "   8022105558972063.0,\n",
       "   3.052596809664529e+17,\n",
       "   3.736587188329951e+16,\n",
       "   5.1911029452134394e+17,\n",
       "   2.899199132344625e+16,\n",
       "   1.6149633661051107e+17,\n",
       "   1.855624471199993e+17,\n",
       "   3.257369855183671e+17,\n",
       "   3.201784732578845e+16,\n",
       "   8.212039317800523e+16,\n",
       "   5.2713233135765037e+17,\n",
       "   8.24018681557305e+16],\n",
       "  u'meta': {u'good': u'images of no-bake cookies (cookies that are not meant to be baked before eating)',\n",
       "   u'ok': u'recipes for no-bake cookies; no-bake items that are not cookies, like bars or cakes',\n",
       "   u'poor': u'images showing cookies that need to be oven-baked',\n",
       "   u'query': u'no bake cookies'}},\n",
       " {u'_id': ObjectId('55c25383c7ed2ff20c44da1d'),\n",
       "  u'items': [1.218083648944321e+17,\n",
       "   1.968214461889079e+17,\n",
       "   2.7858992692324672e+17,\n",
       "   5.359987931247447e+17,\n",
       "   5.35998793124837e+17,\n",
       "   1.2912671428781803e+17,\n",
       "   1.0703092861891573e+17,\n",
       "   3.19614904775875e+17,\n",
       "   1.4130050703346251e+17,\n",
       "   2.2320972525409606e+17,\n",
       "   5.119326826159937e+17,\n",
       "   4.305864143457492e+17,\n",
       "   3.583880828181842e+17,\n",
       "   5.663980906090863e+17,\n",
       "   2.1765059446232554e+17,\n",
       "   6262886954644266.0,\n",
       "   6.832811931867208e+16,\n",
       "   4.250279020567088e+16,\n",
       "   4.824481788048819e+17,\n",
       "   3.947687235587978e+17,\n",
       "   5.359987931244463e+17,\n",
       "   4.47263806714553e+17,\n",
       "   1.432004631248733e+17,\n",
       "   2.498097290669153e+16,\n",
       "   5.723794338651734e+17,\n",
       "   1.838735972610879e+17,\n",
       "   5.559137662306945e+16,\n",
       "   2.499498480413915e+17,\n",
       "   3.780209624456089e+17,\n",
       "   3.082151682195234e+17],\n",
       "  u'meta': {u'good': u'images of the actress Jennifer Lawrence',\n",
       "   u'ok': u'illustrations of Jennifer Lawrence or characters that she plays',\n",
       "   u'poor': u'images of other actors, even if from the same films',\n",
       "   u'query': u'jennifer lawrence'}},\n",
       " {u'_id': ObjectId('55c25383c7ed2ff20c44da1c'),\n",
       "  u'items': [9359111695678238.0,\n",
       "   3.362219284031737e+17,\n",
       "   2.9203035705752006e+17,\n",
       "   3.897725427198645e+17,\n",
       "   3.120854491478972e+17,\n",
       "   3.9441687983825254e+17,\n",
       "   2.1497658218295846e+17,\n",
       "   3.154631488722233e+17,\n",
       "   3.272153476560501e+16,\n",
       "   1.426375131727804e+17,\n",
       "   4.844888723863742e+17,\n",
       "   4.125720158362123e+17,\n",
       "   1.9738439613829536e+17,\n",
       "   1.1540480917241653e+17,\n",
       "   3.6465090104871654e+17,\n",
       "   1.5628904953966627e+17,\n",
       "   6.867996304151078e+16,\n",
       "   1.6599993623692234e+17,\n",
       "   4.36286901111232e+16,\n",
       "   2.3334282441265072e+17,\n",
       "   2.408722800410844e+17,\n",
       "   2.6669822763785308e+16,\n",
       "   1.780336099869396e+16,\n",
       "   5.200257066802317e+16,\n",
       "   4.936368091289133e+17,\n",
       "   4.6302702391075464e+16,\n",
       "   4.851925598275894e+17,\n",
       "   1.0801609103479461e+17,\n",
       "   1.125906778823656e+16,\n",
       "   8585055514182271.0],\n",
       "  u'meta': {u'good': u'tattoos of feathers (photographed)',\n",
       "   u'ok': u'illustrations of feathers; tattoos of birds',\n",
       "   u'poor': u'other tattoos',\n",
       "   u'query': u'feather tattoo'}},\n",
       " {u'_id': ObjectId('55c25383c7ed2ff20c44da1b'),\n",
       "  u'items': [4.7301876708272845e+17,\n",
       "   3.933619672038124e+16,\n",
       "   2.467832545508406e+17,\n",
       "   2.3784642404039514e+17,\n",
       "   4.9307385917407616e+17,\n",
       "   9.64052482482001e+16,\n",
       "   2.9498584431277645e+17,\n",
       "   2.270096374412471e+17,\n",
       "   2.8063062050493117e+17,\n",
       "   2.9203097553431556e+16,\n",
       "   7.156508155377679e+16,\n",
       "   1196337376007752.0,\n",
       "   1.4510041921783178e+17,\n",
       "   9.267570480534178e+16,\n",
       "   4.996187708827215e+16,\n",
       "   3.0490783724354125e+17,\n",
       "   2.8823044487539725e+17,\n",
       "   8.592030536385594e+16,\n",
       "   3.7703580002738643e+17,\n",
       "   1.0822719726570837e+17,\n",
       "   7.613904992221629e+16,\n",
       "   7459155603442790.0,\n",
       "   3.4403285900422637e+17,\n",
       "   1.7402197307648483e+17,\n",
       "   5.6083895981574176e+17,\n",
       "   5.918018257704586e+16,\n",
       "   5.0848461414820685e+17,\n",
       "   1.871105594918793e+17,\n",
       "   3.01952349989595e+17,\n",
       "   5.302285560997537e+17],\n",
       "  u'meta': {u'good': u'images of interior window decorations; images of blinds, curtains, drapes or shades on windows',\n",
       "   u'ok': u'exterior images of windows; images of special window glass, such as stained or frosted glass',\n",
       "   u'poor': u'illustrations of windows; photos only showing fabric',\n",
       "   u'query': u'window treatments'}},\n",
       " {u'_id': ObjectId('55c25383c7ed2ff20c44da1a'),\n",
       "  u'items': [1.0273843522311202e+17,\n",
       "   1.878846156761248e+17,\n",
       "   1.9203637158259158e+17,\n",
       "   2.219430878611536e+17,\n",
       "   6.4035625922953256e+16,\n",
       "   4.018759667183864e+17,\n",
       "   8.662399280409102e+16,\n",
       "   6.065792620276319e+16,\n",
       "   4.704151235502964e+17,\n",
       "   5.222065192647419e+17,\n",
       "   2.982228065467749e+17,\n",
       "   3.3974036561138e+17,\n",
       "   4.7076758578276424e+16,\n",
       "   1.7134796079442637e+17,\n",
       "   1.0449765382771635e+17,\n",
       "   2.5783114738818122e+17,\n",
       "   1.3264515149906464e+17,\n",
       "   6.4246732158221864e+16,\n",
       "   2.396760113909128e+17,\n",
       "   2.782380831981513e+17,\n",
       "   4.932849654071672e+17,\n",
       "   1.477744314947766e+17,\n",
       "   5.7132390270176986e+17,\n",
       "   2.600829472043466e+17,\n",
       "   3.588102952834612e+17,\n",
       "   2.9639321919612224e+17,\n",
       "   2.033663578940411e+16,\n",
       "   3.168705237538108e+17,\n",
       "   4.651380862514103e+16,\n",
       "   1.7873729742725724e+16],\n",
       "  u'meta': {u'good': u'ideas for christmas decorations or crafts, christmas-oriented gifts, or christmas cooking',\n",
       "   u'ok': u\"images related to Christmas that aren't necesarily 'ideas'; recipes or images of big meals or snacks that might be appropriate for Christmas but are not Christmas-themed\",\n",
       "   u'poor': u'general gift ideas that are not clearly related to Christmas',\n",
       "   u'query': u'christmas ideas'}},\n",
       " {u'_id': ObjectId('55c25383c7ed2ff20c44da19'),\n",
       "  u'items': [9.563119206209982e+16,\n",
       "   1.5354466852033664e+17,\n",
       "   2.038583206030051e+17,\n",
       "   1.1505296545507725e+17,\n",
       "   2.343279868312408e+17,\n",
       "   4.8111117266318016e+17,\n",
       "   1.1069010331549446e+17,\n",
       "   2.0491385176657206e+17,\n",
       "   2.4059080506804262e+17,\n",
       "   4.882184158245669e+17,\n",
       "   4.7949269154959443e+17,\n",
       "   1.9245858404593962e+17,\n",
       "   2.277133248830107e+17,\n",
       "   2.0336573939761264e+17,\n",
       "   3.58880664026086e+17,\n",
       "   2.8246020784969888e+17,\n",
       "   2.2792443111638272e+17,\n",
       "   1.087901472197192e+17,\n",
       "   5.6252780968015206e+17,\n",
       "   5.600649036302706e+17,\n",
       "   6.776516936596981e+16,\n",
       "   4.809704351765199e+17,\n",
       "   2.1736911948440864e+17,\n",
       "   2.6521986553024864e+17,\n",
       "   5.705498465134858e+17,\n",
       "   3.19474785791594e+16,\n",
       "   8.803136768743542e+16,\n",
       "   1.9710292116609587e+17,\n",
       "   5.011662647571746e+17,\n",
       "   4.187644653241429e+17],\n",
       "  u'meta': {u'good': u'items being reused in a way that improves on the original',\n",
       "   u'ok': u'images that show something in the process of being rebuilt or reused',\n",
       "   u'query': u'upcycle'}},\n",
       " {u'_id': ObjectId('55c25383c7ed2ff20c44da18'),\n",
       "  u'items': [5.312847057646175e+16,\n",
       "   2.528349665548431e+17,\n",
       "   3.2017847323158344e+16,\n",
       "   2.8499410114474976e+16,\n",
       "   4.193977840214261e+17,\n",
       "   1.7127759205304893e+17,\n",
       "   7.754642480625606e+16,\n",
       "   2.249689438600251e+17,\n",
       "   5.7498307739820474e+17,\n",
       "   5.518317605639361e+17,\n",
       "   2.441092422744134e+17,\n",
       "   4.7097807350363654e+17,\n",
       "   1.2237131484726358e+17,\n",
       "   1.016829040569798e+17,\n",
       "   1.980177148401244e+17,\n",
       "   4.388899261587227e+17,\n",
       "   1.3848575726606402e+17,\n",
       "   1.0442728508399381e+17,\n",
       "   3.616960322715041e+16,\n",
       "   1.1069010331148872e+17,\n",
       "   1.443967317762975e+17,\n",
       "   2.6240511576301392e+17,\n",
       "   1.7549971669941075e+17,\n",
       "   4.261531834626862e+17,\n",
       "   3.0962316160433776e+16,\n",
       "   2.505127979925565e+17,\n",
       "   3.674656508185995e+17,\n",
       "   4.890634592337483e+16,\n",
       "   5.468355797267863e+17,\n",
       "   5.486651670761476e+17],\n",
       "  u'meta': {u'good': u'crafts related to Easter or Easter imagery (bunnies, egg hunts, painted eggs, pastel colors, crosses, lambs, etc.)',\n",
       "   u'ok': u'family crafts that are not Easter-themed',\n",
       "   u'query': u'easter crafts'}},\n",
       " {u'_id': ObjectId('55c25383c7ed2ff20c44da17'),\n",
       "  u'items': [2.3383540562234704e+17,\n",
       "   5.4739852967960506e+17,\n",
       "   5.426838238178328e+17,\n",
       "   3.1363356152211834e+17,\n",
       "   1.7423307930739734e+17,\n",
       "   2.7612702087716298e+17,\n",
       "   1.0534207875564154e+17,\n",
       "   3.315775912887155e+17,\n",
       "   3.1370393026644397e+17,\n",
       "   5.3156556223867226e+17,\n",
       "   5.119326826120769e+17,\n",
       "   4.2136810885939514e+17,\n",
       "   4.728786480747806e+16,\n",
       "   1.6065191168153472e+17,\n",
       "   2.5754967241081965e+17,\n",
       "   3.749951064455919e+17,\n",
       "   2.7647886459643462e+17,\n",
       "   1.4615595038139846e+17,\n",
       "   1.2877548904291392e+16,\n",
       "   3.8970217397710163e+17,\n",
       "   1.0907224068808672e+16,\n",
       "   4.015944917456057e+17,\n",
       "   4.1060169099669984e+17,\n",
       "   2.1800243818290742e+17,\n",
       "   1.3616358870428584e+17,\n",
       "   3.638768448655212e+17,\n",
       "   2.0209910200060006e+17,\n",
       "   1.0485011603547296e+16,\n",
       "   3.5888128255010004e+16,\n",
       "   4.4677122550483526e+17],\n",
       "  u'meta': {u'good': u'photographs of multiple puppies',\n",
       "   u'ok': u'photographs of a single puppy; illustrations of multiple puppies',\n",
       "   u'poor': u'adult dogs',\n",
       "   u'query': u'puppies'}},\n",
       " {u'_id': ObjectId('55c25383c7ed2ff20c44da16'),\n",
       "  u'items': [1.6022969921577203e+17,\n",
       "   2.209579254425624e+17,\n",
       "   5.011662647559352e+17,\n",
       "   4.6302702391075464e+16,\n",
       "   1.8767350944719325e+17,\n",
       "   8.085375578236291e+16,\n",
       "   2.3186508078871696e+17,\n",
       "   5.026440083846546e+17,\n",
       "   3.3031095389076614e+17,\n",
       "   5.633722346086448e+17,\n",
       "   7.205766276055958e+16,\n",
       "   3.189112173348324e+17,\n",
       "   1.6170744284515485e+17,\n",
       "   2.5529787260129965e+17,\n",
       "   5.6435801554235944e+16,\n",
       "   4.2383101490269786e+17,\n",
       "   6.572447578682248e+16,\n",
       "   2.039990580932613e+17,\n",
       "   4.6823369247902406e+17,\n",
       "   4.281938770407459e+17,\n",
       "   4.544414186193983e+17,\n",
       "   4.2460507108999763e+17,\n",
       "   4.9335533415241485e+17,\n",
       "   5.3810985544972326e+17,\n",
       "   1.3018224544857786e+17,\n",
       "   4.70555861038086e+17,\n",
       "   2.567756162243481e+17,\n",
       "   4.031426041149828e+17,\n",
       "   3.142668802209214e+17],\n",
       "  u'meta': {u'good': u'a tattoo of a rose or roses',\n",
       "   u'ok': u'an illustration of a rose; a tattoo of a flower',\n",
       "   u'poor': u'other tattoos',\n",
       "   u'query': u'rose tattoo'}},\n",
       " {u'_id': ObjectId('55c25383c7ed2ff20c44da15'),\n",
       "  u'items': [5.7047947777039034e+17,\n",
       "   2.134284698109723e+17,\n",
       "   2.554386100844852e+17,\n",
       "   5.29313762426294e+17,\n",
       "   3.5838808281706874e+17,\n",
       "   2.3819826776455696e+17,\n",
       "   5.378283804694219e+17,\n",
       "   3.150409364056994e+17,\n",
       "   2.3890195520626806e+17,\n",
       "   5.685801401748624e+16,\n",
       "   5.742096397235511e+16,\n",
       "   2.3643966764345764e+16,\n",
       "   5.446547671665254e+16,\n",
       "   1.800736850735786e+17,\n",
       "   1.3869686349699931e+17,\n",
       "   2.24898575114928e+17,\n",
       "   9.51386108477204e+16,\n",
       "   2.5058316674052784e+17,\n",
       "   5.11510470150033e+17,\n",
       "   5.299470811243167e+17,\n",
       "   1.2026025251972878e+17,\n",
       "   5.5647609767733766e+17,\n",
       "   5.234731566593141e+17,\n",
       "   1.8225511614230253e+17,\n",
       "   2.3270950571679344e+17,\n",
       "   8514686766779371.0,\n",
       "   1.9259932153608966e+17,\n",
       "   1.606519116786779e+17,\n",
       "   1.2631196452312016e+17,\n",
       "   3659243419266073.0],\n",
       "  u'meta': {u'good': u'images of buffalo chicken dip (a dip for food, like chips), recipes for buffalo chicken dip',\n",
       "   u'ok': u'images of other types of dip, images of ingredients',\n",
       "   u'poor': u'images of buffalos or chicken',\n",
       "   u'query': u'buffalo chicken dip'}},\n",
       " {u'_id': ObjectId('55c25383c7ed2ff20c44da14'),\n",
       "  u'items': [2.09135976417249e+17,\n",
       "   2.5557934757939626e+17,\n",
       "   4.43886106992307e+17,\n",
       "   2.068847951169072e+16,\n",
       "   3.68169338259053e+17,\n",
       "   9.154980489875133e+16,\n",
       "   2.6880928999544696e+16,\n",
       "   2.394649051581234e+17,\n",
       "   5.6717214679303885e+17,\n",
       "   1.852809721434959e+17,\n",
       "   2.1448400097302973e+17,\n",
       "   1829656070146753.0,\n",
       "   3.729550313792485e+16,\n",
       "   2.292614372507134e+17,\n",
       "   1.2398979596112434e+17,\n",
       "   4.222829025298086e+17,\n",
       "   4.9363680912776326e+17,\n",
       "   3.6929523816530125e+17,\n",
       "   2.74367802272729e+17,\n",
       "   1.4425661277901044e+16,\n",
       "   2.653606030176835e+17,\n",
       "   6.9172544247863816e+16,\n",
       "   5.411357114458954e+17,\n",
       "   2.7422706478431155e+17,\n",
       "   1.2666380824378195e+17,\n",
       "   3.0610472438321196e+16,\n",
       "   2.7739365827238038e+17,\n",
       "   1.1188699043845326e+16,\n",
       "   1.3461547633351834e+17,\n",
       "   2.5473492264481674e+17],\n",
       "  u'meta': {u'good': u'decorations that are thangsgiving-themed (e.g. turkeys, sweet potatoes, pumpkins, harvest, etc.)',\n",
       "   u'ok': u'decorations that related to fall-time or halloween',\n",
       "   u'query': u'thanksgiving decorations'}},\n",
       " {u'_id': ObjectId('55c25383c7ed2ff20c44da13'),\n",
       "  u'items': [2.4052043631933024e+17,\n",
       "   4.966626651297522e+17,\n",
       "   5.180547633566563e+17,\n",
       "   1.3229330777479237e+17,\n",
       "   4.5415994364511334e+17,\n",
       "   2.174401067510159e+16,\n",
       "   4.672485300619361e+17,\n",
       "   4.071536225328698e+17,\n",
       "   2.8400832022110304e+17,\n",
       "   4.032135913863553e+16,\n",
       "   8.627214908335314e+16,\n",
       "   3.673952820745021e+17,\n",
       "   2.319354495294728e+17,\n",
       "   4.134164407673657e+17,\n",
       "   2.2306898776474403e+17,\n",
       "   3.401625780779313e+17,\n",
       "   4.163015592772253e+17,\n",
       "   3.598658264467713e+17,\n",
       "   2.0850265771993293e+17,\n",
       "   1.462263191226683e+17,\n",
       "   2.390426926918788e+17,\n",
       "   5.0179958345307174e+17,\n",
       "   1.853513408895993e+17,\n",
       "   4.6950032987345683e+17,\n",
       "   6.129124489999624e+16,\n",
       "   1.6276297400581558e+17,\n",
       "   1.0351249140511792e+17,\n",
       "   5.355068303910958e+16,\n",
       "   3.329145974268567e+17,\n",
       "   4.9497381526816275e+17],\n",
       "  u'meta': {u'good': u'images related to christian love for other people (non-sexual); love of God for people',\n",
       "   u'ok': u'images related to Christianity; images of feasts',\n",
       "   u'query': u'agape'}}]"
      ]
     },
     "execution_count": 124,
     "metadata": {},
     "output_type": "execute_result"
    }
   ],
   "source": [
    "random.seed(345679867543) #Keyboard mashing\n",
    "search = hits.aggregate([\n",
    "    {\"$match\":{\"_id\":ObjectId(\"55c25383c7ed2ff20c44da12\")}},\n",
    "    {\"$unwind\":'$facets'}\n",
    "        ])\n",
    "facetList = [v['facets'] for v in search]\n",
    "facetSample = random.sample(facetList, 2)\n",
    "facetSample"
   ]
  },
  {
   "cell_type": "markdown",
   "metadata": {},
   "source": [
    "Okay, so the two sample queries are \"upcycle\" and \"buffalo chicken dip\". Let's select 10 items from each."
   ]
  },
  {
   "cell_type": "code",
   "execution_count": 7,
   "metadata": {
    "collapsed": false,
    "scrolled": true
   },
   "outputs": [
    {
     "data": {
      "text/plain": [
       "[{u'_id': ObjectId('55c25383c7ed2ff20c44da19'),\n",
       "  u'items': [5.600649036302706e+17,\n",
       "   1.9245858404593962e+17,\n",
       "   5.011662647571746e+17,\n",
       "   5.705498465134858e+17,\n",
       "   3.19474785791594e+16,\n",
       "   4.187644653241429e+17,\n",
       "   2.343279868312408e+17,\n",
       "   5.6252780968015206e+17,\n",
       "   2.2792443111638272e+17,\n",
       "   1.1069010331549446e+17],\n",
       "  u'meta': {u'good': u'items being reused in a way that improves on the original',\n",
       "   u'ok': u'images that show something in the process of being rebuilt or reused',\n",
       "   u'query': u'upcycle'}},\n",
       " {u'_id': ObjectId('55c25383c7ed2ff20c44da15'),\n",
       "  u'items': [9.51386108477204e+16,\n",
       "   5.5647609767733766e+17,\n",
       "   1.2026025251972878e+17,\n",
       "   3659243419266073.0,\n",
       "   1.606519116786779e+17,\n",
       "   2.5058316674052784e+17,\n",
       "   2.3890195520626806e+17,\n",
       "   5.11510470150033e+17,\n",
       "   8514686766779371.0,\n",
       "   2.3643966764345764e+16],\n",
       "  u'meta': {u'good': u'images of buffalo chicken dip (a dip for food, like chips), recipes for buffalo chicken dip',\n",
       "   u'ok': u'images of other types of dip, images of ingredients',\n",
       "   u'poor': u'images of buffalos or chicken',\n",
       "   u'query': u'buffalo chicken dip'}}]"
      ]
     },
     "execution_count": 7,
     "metadata": {},
     "output_type": "execute_result"
    }
   ],
   "source": [
    "finalSample = facetSample\n",
    "for query in finalSample:\n",
    "     query['items'] = random.sample(query['items'], 10)\n",
    "finalSample"
   ]
  },
  {
   "cell_type": "markdown",
   "metadata": {},
   "source": [
    "Now, let's look up the counts for all the results that we've seen before.\n",
    "\n",
    "Note that much of the info in the 'meta' field was manually added for easier querying of tasksets (without having to cross-reference the associated HIT). In other words, make sure everything in the DB is properly tagged!"
   ]
  },
  {
   "cell_type": "code",
   "execution_count": 135,
   "metadata": {
    "collapsed": false,
    "scrolled": true
   },
   "outputs": [
    {
     "data": {
      "text/html": [
       "<div>\n",
       "<table border=\"1\" class=\"dataframe\">\n",
       "  <thead>\n",
       "    <tr style=\"text-align: right;\">\n",
       "      <th></th>\n",
       "      <th>query</th>\n",
       "      <th>item</th>\n",
       "      <th>variable</th>\n",
       "      <th>probability</th>\n",
       "    </tr>\n",
       "  </thead>\n",
       "  <tbody>\n",
       "    <tr>\n",
       "      <th>0</th>\n",
       "      <td>agape</td>\n",
       "      <td>21744010675101592</td>\n",
       "      <td>Not Relevant</td>\n",
       "      <td>1</td>\n",
       "    </tr>\n",
       "    <tr>\n",
       "      <th>1</th>\n",
       "      <td>agape</td>\n",
       "      <td>40321359138635528</td>\n",
       "      <td>Not Relevant</td>\n",
       "      <td>1</td>\n",
       "    </tr>\n",
       "    <tr>\n",
       "      <th>2</th>\n",
       "      <td>agape</td>\n",
       "      <td>53550683039109584</td>\n",
       "      <td>Not Relevant</td>\n",
       "      <td>1</td>\n",
       "    </tr>\n",
       "    <tr>\n",
       "      <th>3</th>\n",
       "      <td>agape</td>\n",
       "      <td>61291244899996240</td>\n",
       "      <td>Not Relevant</td>\n",
       "      <td>1</td>\n",
       "    </tr>\n",
       "    <tr>\n",
       "      <th>4</th>\n",
       "      <td>agape</td>\n",
       "      <td>86272149083353136</td>\n",
       "      <td>Not Relevant</td>\n",
       "      <td>1</td>\n",
       "    </tr>\n",
       "    <tr>\n",
       "      <th>5</th>\n",
       "      <td>agape</td>\n",
       "      <td>103512491405117920</td>\n",
       "      <td>Not Relevant</td>\n",
       "      <td>1</td>\n",
       "    </tr>\n",
       "    <tr>\n",
       "      <th>6</th>\n",
       "      <td>agape</td>\n",
       "      <td>132293307774792368</td>\n",
       "      <td>Not Relevant</td>\n",
       "      <td>0</td>\n",
       "    </tr>\n",
       "    <tr>\n",
       "      <th>7</th>\n",
       "      <td>agape</td>\n",
       "      <td>146226319122668288</td>\n",
       "      <td>Not Relevant</td>\n",
       "      <td>1</td>\n",
       "    </tr>\n",
       "    <tr>\n",
       "      <th>8</th>\n",
       "      <td>agape</td>\n",
       "      <td>162762974005815584</td>\n",
       "      <td>Not Relevant</td>\n",
       "      <td>1</td>\n",
       "    </tr>\n",
       "    <tr>\n",
       "      <th>9</th>\n",
       "      <td>agape</td>\n",
       "      <td>185351340889599296</td>\n",
       "      <td>Not Relevant</td>\n",
       "      <td>1</td>\n",
       "    </tr>\n",
       "    <tr>\n",
       "      <th>10</th>\n",
       "      <td>agape</td>\n",
       "      <td>208502657719932928</td>\n",
       "      <td>Not Relevant</td>\n",
       "      <td>1</td>\n",
       "    </tr>\n",
       "    <tr>\n",
       "      <th>11</th>\n",
       "      <td>agape</td>\n",
       "      <td>223068987764744032</td>\n",
       "      <td>Not Relevant</td>\n",
       "      <td>1</td>\n",
       "    </tr>\n",
       "    <tr>\n",
       "      <th>12</th>\n",
       "      <td>agape</td>\n",
       "      <td>231935449529472800</td>\n",
       "      <td>Not Relevant</td>\n",
       "      <td>1</td>\n",
       "    </tr>\n",
       "    <tr>\n",
       "      <th>13</th>\n",
       "      <td>agape</td>\n",
       "      <td>239042692691878784</td>\n",
       "      <td>Not Relevant</td>\n",
       "      <td>1</td>\n",
       "    </tr>\n",
       "    <tr>\n",
       "      <th>14</th>\n",
       "      <td>agape</td>\n",
       "      <td>240520436319330240</td>\n",
       "      <td>Not Relevant</td>\n",
       "      <td>1</td>\n",
       "    </tr>\n",
       "    <tr>\n",
       "      <th>15</th>\n",
       "      <td>agape</td>\n",
       "      <td>284008320221103040</td>\n",
       "      <td>Not Relevant</td>\n",
       "      <td>1</td>\n",
       "    </tr>\n",
       "    <tr>\n",
       "      <th>16</th>\n",
       "      <td>agape</td>\n",
       "      <td>332914597426856704</td>\n",
       "      <td>Not Relevant</td>\n",
       "      <td>1</td>\n",
       "    </tr>\n",
       "    <tr>\n",
       "      <th>17</th>\n",
       "      <td>agape</td>\n",
       "      <td>340162578077931328</td>\n",
       "      <td>Not Relevant</td>\n",
       "      <td>1</td>\n",
       "    </tr>\n",
       "    <tr>\n",
       "      <th>18</th>\n",
       "      <td>agape</td>\n",
       "      <td>359865826446771328</td>\n",
       "      <td>Not Relevant</td>\n",
       "      <td>1</td>\n",
       "    </tr>\n",
       "    <tr>\n",
       "      <th>19</th>\n",
       "      <td>agape</td>\n",
       "      <td>367395282074502080</td>\n",
       "      <td>Not Relevant</td>\n",
       "      <td>1</td>\n",
       "    </tr>\n",
       "    <tr>\n",
       "      <th>20</th>\n",
       "      <td>agape</td>\n",
       "      <td>407153622532869824</td>\n",
       "      <td>Not Relevant</td>\n",
       "      <td>1</td>\n",
       "    </tr>\n",
       "    <tr>\n",
       "      <th>21</th>\n",
       "      <td>agape</td>\n",
       "      <td>413416440767365696</td>\n",
       "      <td>Not Relevant</td>\n",
       "      <td>1</td>\n",
       "    </tr>\n",
       "    <tr>\n",
       "      <th>22</th>\n",
       "      <td>agape</td>\n",
       "      <td>416301559277225280</td>\n",
       "      <td>Not Relevant</td>\n",
       "      <td>1</td>\n",
       "    </tr>\n",
       "    <tr>\n",
       "      <th>23</th>\n",
       "      <td>agape</td>\n",
       "      <td>454159943645113344</td>\n",
       "      <td>Not Relevant</td>\n",
       "      <td>1</td>\n",
       "    </tr>\n",
       "    <tr>\n",
       "      <th>24</th>\n",
       "      <td>agape</td>\n",
       "      <td>467248530061936128</td>\n",
       "      <td>Not Relevant</td>\n",
       "      <td>1</td>\n",
       "    </tr>\n",
       "    <tr>\n",
       "      <th>25</th>\n",
       "      <td>agape</td>\n",
       "      <td>469500329873456832</td>\n",
       "      <td>Not Relevant</td>\n",
       "      <td>1</td>\n",
       "    </tr>\n",
       "    <tr>\n",
       "      <th>26</th>\n",
       "      <td>agape</td>\n",
       "      <td>494973815268162752</td>\n",
       "      <td>Not Relevant</td>\n",
       "      <td>1</td>\n",
       "    </tr>\n",
       "    <tr>\n",
       "      <th>27</th>\n",
       "      <td>agape</td>\n",
       "      <td>496662665129752192</td>\n",
       "      <td>Not Relevant</td>\n",
       "      <td>1</td>\n",
       "    </tr>\n",
       "    <tr>\n",
       "      <th>28</th>\n",
       "      <td>agape</td>\n",
       "      <td>501799583453071744</td>\n",
       "      <td>Not Relevant</td>\n",
       "      <td>1</td>\n",
       "    </tr>\n",
       "    <tr>\n",
       "      <th>29</th>\n",
       "      <td>agape</td>\n",
       "      <td>518054763356656320</td>\n",
       "      <td>Not Relevant</td>\n",
       "      <td>1</td>\n",
       "    </tr>\n",
       "    <tr>\n",
       "      <th>...</th>\n",
       "      <td>...</td>\n",
       "      <td>...</td>\n",
       "      <td>...</td>\n",
       "      <td>...</td>\n",
       "    </tr>\n",
       "    <tr>\n",
       "      <th>1137</th>\n",
       "      <td>window treatments</td>\n",
       "      <td>1196337376007752</td>\n",
       "      <td>Very Relevant</td>\n",
       "      <td>1</td>\n",
       "    </tr>\n",
       "    <tr>\n",
       "      <th>1138</th>\n",
       "      <td>window treatments</td>\n",
       "      <td>7459155603442790</td>\n",
       "      <td>Very Relevant</td>\n",
       "      <td>0</td>\n",
       "    </tr>\n",
       "    <tr>\n",
       "      <th>1139</th>\n",
       "      <td>window treatments</td>\n",
       "      <td>29203097553431556</td>\n",
       "      <td>Very Relevant</td>\n",
       "      <td>1</td>\n",
       "    </tr>\n",
       "    <tr>\n",
       "      <th>1140</th>\n",
       "      <td>window treatments</td>\n",
       "      <td>39336196720381240</td>\n",
       "      <td>Very Relevant</td>\n",
       "      <td>0</td>\n",
       "    </tr>\n",
       "    <tr>\n",
       "      <th>1141</th>\n",
       "      <td>window treatments</td>\n",
       "      <td>49961877088272152</td>\n",
       "      <td>Very Relevant</td>\n",
       "      <td>1</td>\n",
       "    </tr>\n",
       "    <tr>\n",
       "      <th>1142</th>\n",
       "      <td>window treatments</td>\n",
       "      <td>59180182577045856</td>\n",
       "      <td>Very Relevant</td>\n",
       "      <td>1</td>\n",
       "    </tr>\n",
       "    <tr>\n",
       "      <th>1143</th>\n",
       "      <td>window treatments</td>\n",
       "      <td>71565081553776792</td>\n",
       "      <td>Very Relevant</td>\n",
       "      <td>1</td>\n",
       "    </tr>\n",
       "    <tr>\n",
       "      <th>1144</th>\n",
       "      <td>window treatments</td>\n",
       "      <td>76139049922216288</td>\n",
       "      <td>Very Relevant</td>\n",
       "      <td>1</td>\n",
       "    </tr>\n",
       "    <tr>\n",
       "      <th>1145</th>\n",
       "      <td>window treatments</td>\n",
       "      <td>85920305363855936</td>\n",
       "      <td>Very Relevant</td>\n",
       "      <td>0</td>\n",
       "    </tr>\n",
       "    <tr>\n",
       "      <th>1146</th>\n",
       "      <td>window treatments</td>\n",
       "      <td>92675704805341776</td>\n",
       "      <td>Very Relevant</td>\n",
       "      <td>1</td>\n",
       "    </tr>\n",
       "    <tr>\n",
       "      <th>1147</th>\n",
       "      <td>window treatments</td>\n",
       "      <td>96405248248200096</td>\n",
       "      <td>Very Relevant</td>\n",
       "      <td>1</td>\n",
       "    </tr>\n",
       "    <tr>\n",
       "      <th>1148</th>\n",
       "      <td>window treatments</td>\n",
       "      <td>108227197265708368</td>\n",
       "      <td>Very Relevant</td>\n",
       "      <td>0</td>\n",
       "    </tr>\n",
       "    <tr>\n",
       "      <th>1149</th>\n",
       "      <td>window treatments</td>\n",
       "      <td>145100419217831776</td>\n",
       "      <td>Very Relevant</td>\n",
       "      <td>1</td>\n",
       "    </tr>\n",
       "    <tr>\n",
       "      <th>1150</th>\n",
       "      <td>window treatments</td>\n",
       "      <td>174021973076484832</td>\n",
       "      <td>Very Relevant</td>\n",
       "      <td>0</td>\n",
       "    </tr>\n",
       "    <tr>\n",
       "      <th>1151</th>\n",
       "      <td>window treatments</td>\n",
       "      <td>187110559491879296</td>\n",
       "      <td>Very Relevant</td>\n",
       "      <td>0</td>\n",
       "    </tr>\n",
       "    <tr>\n",
       "      <th>1152</th>\n",
       "      <td>window treatments</td>\n",
       "      <td>227009637441247104</td>\n",
       "      <td>Very Relevant</td>\n",
       "      <td>1</td>\n",
       "    </tr>\n",
       "    <tr>\n",
       "      <th>1153</th>\n",
       "      <td>window treatments</td>\n",
       "      <td>237846424040395136</td>\n",
       "      <td>Very Relevant</td>\n",
       "      <td>1</td>\n",
       "    </tr>\n",
       "    <tr>\n",
       "      <th>1154</th>\n",
       "      <td>window treatments</td>\n",
       "      <td>246783254550840608</td>\n",
       "      <td>Very Relevant</td>\n",
       "      <td>1</td>\n",
       "    </tr>\n",
       "    <tr>\n",
       "      <th>1155</th>\n",
       "      <td>window treatments</td>\n",
       "      <td>280630620504931168</td>\n",
       "      <td>Very Relevant</td>\n",
       "      <td>1</td>\n",
       "    </tr>\n",
       "    <tr>\n",
       "      <th>1156</th>\n",
       "      <td>window treatments</td>\n",
       "      <td>288230444875397248</td>\n",
       "      <td>Very Relevant</td>\n",
       "      <td>1</td>\n",
       "    </tr>\n",
       "    <tr>\n",
       "      <th>1157</th>\n",
       "      <td>window treatments</td>\n",
       "      <td>294985844312776448</td>\n",
       "      <td>Very Relevant</td>\n",
       "      <td>0</td>\n",
       "    </tr>\n",
       "    <tr>\n",
       "      <th>1158</th>\n",
       "      <td>window treatments</td>\n",
       "      <td>301952349989595008</td>\n",
       "      <td>Very Relevant</td>\n",
       "      <td>0</td>\n",
       "    </tr>\n",
       "    <tr>\n",
       "      <th>1159</th>\n",
       "      <td>window treatments</td>\n",
       "      <td>304907837243541248</td>\n",
       "      <td>Very Relevant</td>\n",
       "      <td>0</td>\n",
       "    </tr>\n",
       "    <tr>\n",
       "      <th>1160</th>\n",
       "      <td>window treatments</td>\n",
       "      <td>344032859004226368</td>\n",
       "      <td>Very Relevant</td>\n",
       "      <td>0</td>\n",
       "    </tr>\n",
       "    <tr>\n",
       "      <th>1161</th>\n",
       "      <td>window treatments</td>\n",
       "      <td>377035800027386432</td>\n",
       "      <td>Very Relevant</td>\n",
       "      <td>0</td>\n",
       "    </tr>\n",
       "    <tr>\n",
       "      <th>1162</th>\n",
       "      <td>window treatments</td>\n",
       "      <td>473018767082728448</td>\n",
       "      <td>Very Relevant</td>\n",
       "      <td>1</td>\n",
       "    </tr>\n",
       "    <tr>\n",
       "      <th>1163</th>\n",
       "      <td>window treatments</td>\n",
       "      <td>493073859174076160</td>\n",
       "      <td>Very Relevant</td>\n",
       "      <td>0</td>\n",
       "    </tr>\n",
       "    <tr>\n",
       "      <th>1164</th>\n",
       "      <td>window treatments</td>\n",
       "      <td>508484614148206848</td>\n",
       "      <td>Very Relevant</td>\n",
       "      <td>0</td>\n",
       "    </tr>\n",
       "    <tr>\n",
       "      <th>1165</th>\n",
       "      <td>window treatments</td>\n",
       "      <td>530228556099753728</td>\n",
       "      <td>Very Relevant</td>\n",
       "      <td>0</td>\n",
       "    </tr>\n",
       "    <tr>\n",
       "      <th>1166</th>\n",
       "      <td>window treatments</td>\n",
       "      <td>560838959815741760</td>\n",
       "      <td>Very Relevant</td>\n",
       "      <td>0</td>\n",
       "    </tr>\n",
       "  </tbody>\n",
       "</table>\n",
       "<p>1167 rows × 4 columns</p>\n",
       "</div>"
      ],
      "text/plain": [
       "                  query               item       variable  probability\n",
       "0                 agape  21744010675101592   Not Relevant            1\n",
       "1                 agape  40321359138635528   Not Relevant            1\n",
       "2                 agape  53550683039109584   Not Relevant            1\n",
       "3                 agape  61291244899996240   Not Relevant            1\n",
       "4                 agape  86272149083353136   Not Relevant            1\n",
       "5                 agape 103512491405117920   Not Relevant            1\n",
       "6                 agape 132293307774792368   Not Relevant            0\n",
       "7                 agape 146226319122668288   Not Relevant            1\n",
       "8                 agape 162762974005815584   Not Relevant            1\n",
       "9                 agape 185351340889599296   Not Relevant            1\n",
       "10                agape 208502657719932928   Not Relevant            1\n",
       "11                agape 223068987764744032   Not Relevant            1\n",
       "12                agape 231935449529472800   Not Relevant            1\n",
       "13                agape 239042692691878784   Not Relevant            1\n",
       "14                agape 240520436319330240   Not Relevant            1\n",
       "15                agape 284008320221103040   Not Relevant            1\n",
       "16                agape 332914597426856704   Not Relevant            1\n",
       "17                agape 340162578077931328   Not Relevant            1\n",
       "18                agape 359865826446771328   Not Relevant            1\n",
       "19                agape 367395282074502080   Not Relevant            1\n",
       "20                agape 407153622532869824   Not Relevant            1\n",
       "21                agape 413416440767365696   Not Relevant            1\n",
       "22                agape 416301559277225280   Not Relevant            1\n",
       "23                agape 454159943645113344   Not Relevant            1\n",
       "24                agape 467248530061936128   Not Relevant            1\n",
       "25                agape 469500329873456832   Not Relevant            1\n",
       "26                agape 494973815268162752   Not Relevant            1\n",
       "27                agape 496662665129752192   Not Relevant            1\n",
       "28                agape 501799583453071744   Not Relevant            1\n",
       "29                agape 518054763356656320   Not Relevant            1\n",
       "...                 ...                ...            ...          ...\n",
       "1137  window treatments   1196337376007752  Very Relevant            1\n",
       "1138  window treatments   7459155603442790  Very Relevant            0\n",
       "1139  window treatments  29203097553431556  Very Relevant            1\n",
       "1140  window treatments  39336196720381240  Very Relevant            0\n",
       "1141  window treatments  49961877088272152  Very Relevant            1\n",
       "1142  window treatments  59180182577045856  Very Relevant            1\n",
       "1143  window treatments  71565081553776792  Very Relevant            1\n",
       "1144  window treatments  76139049922216288  Very Relevant            1\n",
       "1145  window treatments  85920305363855936  Very Relevant            0\n",
       "1146  window treatments  92675704805341776  Very Relevant            1\n",
       "1147  window treatments  96405248248200096  Very Relevant            1\n",
       "1148  window treatments 108227197265708368  Very Relevant            0\n",
       "1149  window treatments 145100419217831776  Very Relevant            1\n",
       "1150  window treatments 174021973076484832  Very Relevant            0\n",
       "1151  window treatments 187110559491879296  Very Relevant            0\n",
       "1152  window treatments 227009637441247104  Very Relevant            1\n",
       "1153  window treatments 237846424040395136  Very Relevant            1\n",
       "1154  window treatments 246783254550840608  Very Relevant            1\n",
       "1155  window treatments 280630620504931168  Very Relevant            1\n",
       "1156  window treatments 288230444875397248  Very Relevant            1\n",
       "1157  window treatments 294985844312776448  Very Relevant            0\n",
       "1158  window treatments 301952349989595008  Very Relevant            0\n",
       "1159  window treatments 304907837243541248  Very Relevant            0\n",
       "1160  window treatments 344032859004226368  Very Relevant            0\n",
       "1161  window treatments 377035800027386432  Very Relevant            0\n",
       "1162  window treatments 473018767082728448  Very Relevant            1\n",
       "1163  window treatments 493073859174076160  Very Relevant            0\n",
       "1164  window treatments 508484614148206848  Very Relevant            0\n",
       "1165  window treatments 530228556099753728  Very Relevant            0\n",
       "1166  window treatments 560838959815741760  Very Relevant            0\n",
       "\n",
       "[1167 rows x 4 columns]"
      ]
     },
     "execution_count": 135,
     "metadata": {},
     "output_type": "execute_result"
    }
   ],
   "source": [
    "pd.set_option('display.float_format', lambda x: '%.0f' % x)\n",
    "search = ts.aggregate([\n",
    "    {\"$match\":{\"meta.type\":\"relevance judgments\", \"meta.test\":False}},\n",
    "    {\"$unwind\":\"$tasks\"},\n",
    "    {\"$project\":{\"judgment\":\"$tasks.contribution.relevance\", \"query\":\"$facet.meta.query\", \"item\":\"$tasks.item.id\"}},\n",
    "    {\"$unwind\":\"$judgment\"}\n",
    "])\n",
    "\n",
    "def percentByGroup(x):\n",
    "    defaults = pd.Series({\"Not Relevant\":0, \"Somewhat Relevant\":0, \"Very Relevant\":0})\n",
    "    p = x.groupby('judgment').count()['_id'] / len(x)\n",
    "    return p.add(defaults, fill_value=0)\n",
    "judgment_likelihood = pd.DataFrame(results.groupby([\"query\",\"item\"]).apply(percentByGroup))\n",
    "\n",
    "# Melt from wide to long format\n",
    "judgescores = pd.melt(\n",
    "    judgment_likelihood.reset_index(),\n",
    "    id_vars=[\"query\", \"item\"],\n",
    "    value_vars=[\"Not Relevant\", \"Somewhat Relevant\",\"Very Relevant\"],\n",
    "    value_name=\"probability\"\n",
    ")\n",
    "judgescores"
   ]
  },
  {
   "cell_type": "code",
   "execution_count": 148,
   "metadata": {
    "collapsed": false,
    "scrolled": true
   },
   "outputs": [
    {
     "data": {
      "text/plain": [
       "[{u'_id': ObjectId('55c25383c7ed2ff20c44da19'),\n",
       "  u'items': [5.600649036302706e+17,\n",
       "   1.9245858404593962e+17,\n",
       "   5.011662647571746e+17,\n",
       "   5.705498465134858e+17,\n",
       "   3.19474785791594e+16,\n",
       "   4.187644653241429e+17,\n",
       "   2.343279868312408e+17,\n",
       "   5.6252780968015206e+17,\n",
       "   2.2792443111638272e+17,\n",
       "   1.1069010331549446e+17],\n",
       "  u'meta': {u'good': u'items being reused in a way that improves on the original',\n",
       "   u'ok': u'images that show something in the process of being rebuilt or reused',\n",
       "   u'query': u'upcycle'}},\n",
       " {u'_id': ObjectId('55c25383c7ed2ff20c44da15'),\n",
       "  u'items': [9.51386108477204e+16,\n",
       "   5.5647609767733766e+17,\n",
       "   1.2026025251972878e+17,\n",
       "   3659243419266073.0,\n",
       "   1.606519116786779e+17,\n",
       "   2.5058316674052784e+17,\n",
       "   2.3890195520626806e+17,\n",
       "   5.11510470150033e+17,\n",
       "   8514686766779371.0,\n",
       "   2.3643966764345764e+16],\n",
       "  u'meta': {u'good': u'images of buffalo chicken dip (a dip for food, like chips), recipes for buffalo chicken dip',\n",
       "   u'ok': u'images of other types of dip, images of ingredients',\n",
       "   u'poor': u'images of buffalos or chicken',\n",
       "   u'query': u'buffalo chicken dip'}}]"
      ]
     },
     "execution_count": 148,
     "metadata": {},
     "output_type": "execute_result"
    }
   ],
   "source": [
    "# I stupidly saved item ids as floats, this will coerce to string\n",
    "a = ['%.0f' % x for x in finalSample[0]['items']]\n",
    "judgescores\n",
    "finalSample"
   ]
  },
  {
   "cell_type": "code",
   "execution_count": 199,
   "metadata": {
    "collapsed": false
   },
   "outputs": [],
   "source": [
    "import json\n",
    "def getProb(query, item):\n",
    "    a= judgescores.query(\"query == '%s' and item == %.0f\" % (query, item))\n",
    "    return a[['variable', 'probability']].set_index('variable').to_dict()\n",
    "for sample in finalSample:\n",
    "    # Get probabilities for all the items\n",
    "    items = [{(\"%.0f\" % item): getProb(sample['meta']['query'], item)} \n",
    "                   for item in sample['items']]\n",
    "    sample['answers'] = items\n",
    "    sample['_id'] = str(sample['_id'])\n",
    "    f = open('../data/turk/training-relevance-%s.json' % sample['_id'], 'w+')\n",
    "    json.dump(sample,f, indent=2)\n",
    "    f.close()"
   ]
  },
  {
   "cell_type": "code",
   "execution_count": 14,
   "metadata": {
    "collapsed": false,
    "scrolled": true
   },
   "outputs": [
    {
     "data": {
      "text/plain": [
       "count    2387\n",
       "item     2387\n",
       "tag      2387\n",
       "dtype: int64"
      ]
     },
     "execution_count": 14,
     "metadata": {},
     "output_type": "execute_result"
    }
   ],
   "source": [
    "search = ts.aggregate([\n",
    "    {'$unwind':'$tasks'}, {'$unwind':'$tasks.contribution.tags'},\n",
    "    {'$group':{'_id':{'item':'$tasks.item.id', 'tag':'$tasks.contribution.tags'}, 'count':{'$sum':1}}},\n",
    "    {'$project':{'item':'$_id.item', 'tag':'$_id.tag', 'count':1, '_id':0}}\n",
    "])\n",
    "pd.DataFrame(list(search)).sort('count', ascending=False)"
   ]
  },
  {
   "cell_type": "markdown",
   "metadata": {},
   "source": [
    "For reference while I'm manually encoding the teaching tips:"
   ]
  },
  {
   "cell_type": "code",
   "execution_count": 201,
   "metadata": {
    "collapsed": false,
    "scrolled": true
   },
   "outputs": [
    {
     "data": {
      "text/html": [
       "<h2>upcycle(55c25383c7ed2ff20c44da19)</h2>"
      ],
      "text/plain": [
       "<IPython.core.display.HTML object>"
      ]
     },
     "metadata": {},
     "output_type": "display_data"
    },
    {
     "name": "stdout",
     "output_type": "stream",
     "text": [
      "560064903630270592 {'probability': {'Somewhat Relevant': 0.25, 'Not Relevant': 0.5, 'Very Relevant': 0.25}}\n",
      "Upcycle||Interesting pic of shadow. Getting this table, why buy new?\n"
     ]
    },
    {
     "data": {
      "text/html": [
       "<img src=\"https://crowdycrowdy.com/images/s-media-cache-ak0.pinimg.com/236x/3b/24/d5/3b24d5e3d64fb7953f06dd3926d59510.jpg\"/>"
      ],
      "text/plain": [
       "<IPython.core.display.Image object>"
      ]
     },
     "metadata": {},
     "output_type": "display_data"
    },
    {
     "name": "stdout",
     "output_type": "stream",
     "text": [
      "192458584045939616 {'probability': {'Somewhat Relevant': 0.3125, 'Not Relevant': 0.125, 'Very Relevant': 0.5625}}\n",
      "Reduce, Re-use & Recycle.... and UPcycle!||way too many little plastic animals lying around anyway!\n"
     ]
    },
    {
     "data": {
      "text/html": [
       "<img src=\"https://crowdycrowdy.com/images/s-media-cache-ak0.pinimg.com/236x/11/21/fe/1121fea77f02717f4bd5e36dd6630af8.jpg\"/>"
      ],
      "text/plain": [
       "<IPython.core.display.Image object>"
      ]
     },
     "metadata": {},
     "output_type": "display_data"
    },
    {
     "name": "stdout",
     "output_type": "stream",
     "text": [
      "501166264757174592 {'probability': {'Somewhat Relevant': 0.26666666666666666, 'Not Relevant': 0.066666666666666666, 'Very Relevant': 0.66666666666666663}}\n",
      "Repurpose & Reuse||23 Creative Ways To Reuse Old Plastic Bottles,,plastic-bottles-recycling-ideas-13\n"
     ]
    },
    {
     "data": {
      "text/html": [
       "<img src=\"https://crowdycrowdy.com/images/s-media-cache-ak0.pinimg.com/236x/ab/ef/7b/abef7b246c32d67fb6c62158447dfcc0.jpg\"/>"
      ],
      "text/plain": [
       "<IPython.core.display.Image object>"
      ]
     },
     "metadata": {},
     "output_type": "display_data"
    },
    {
     "name": "stdout",
     "output_type": "stream",
     "text": [
      "570549846513485824 {'probability': {'Somewhat Relevant': 0.1875, 'Not Relevant': 0.1875, 'Very Relevant': 0.625}}\n",
      "§ Recycle § upcycle clothes||THE MUDDY PRINCESS\n"
     ]
    },
    {
     "data": {
      "text/html": [
       "<img src=\"https://crowdycrowdy.com/images/s-media-cache-ak0.pinimg.com/236x/14/7b/50/147b50e99c551ff7313b441d8e375220.jpg\"/>"
      ],
      "text/plain": [
       "<IPython.core.display.Image object>"
      ]
     },
     "metadata": {},
     "output_type": "display_data"
    },
    {
     "name": "stdout",
     "output_type": "stream",
     "text": [
      "31947478579159400 {'probability': {'Somewhat Relevant': 0.29411764705882354, 'Not Relevant': 0.0, 'Very Relevant': 0.70588235294117652}}\n",
      "Sewing-kids||Upcycle tees\n"
     ]
    },
    {
     "data": {
      "text/html": [
       "<img src=\"https://crowdycrowdy.com/images/s-media-cache-ak0.pinimg.com/236x/c6/5e/b2/c65eb28a87f038e520c0406f9ed955a4.jpg\"/>"
      ],
      "text/plain": [
       "<IPython.core.display.Image object>"
      ]
     },
     "metadata": {},
     "output_type": "display_data"
    },
    {
     "name": "stdout",
     "output_type": "stream",
     "text": [
      "418764465324142912 {'probability': {'Somewhat Relevant': 0.23529411764705882, 'Not Relevant': 0.6470588235294118, 'Very Relevant': 0.11764705882352941}}\n",
      "PAPER ART||Stargazer Lilies DL Envelope Card Mini Kit on Craftsuprint designed by Sandie Burchell - made by Dianne Jackson - I used a centre opening gatefold card as my base to make this up in another different way. I decoupaged with sticky pads and added the insert. I tied a ribbon bow round the front and added my own badge sentiment to the bottom. This really does look effective. These designs are so versatile and you can use them in so many different ways...How will you use them - Now available for ...\n"
     ]
    },
    {
     "data": {
      "text/html": [
       "<img src=\"https://crowdycrowdy.com/images/s-media-cache-ak0.pinimg.com/236x/b8/da/53/b8da53828d53d2b92df732cc7a4ed83c.jpg\"/>"
      ],
      "text/plain": [
       "<IPython.core.display.Image object>"
      ]
     },
     "metadata": {},
     "output_type": "display_data"
    },
    {
     "name": "stdout",
     "output_type": "stream",
     "text": [
      "234327986831240800 {'probability': {'Somewhat Relevant': 0.2857142857142857, 'Not Relevant': 0.14285714285714285, 'Very Relevant': 0.5714285714285714}}\n",
      "Things to make.||Upcycle paint samples. As the daughter of an interior designer, I could make fifty of these.\n"
     ]
    },
    {
     "data": {
      "text/html": [
       "<img src=\"https://crowdycrowdy.com/images/s-media-cache-ak0.pinimg.com/236x/e5/6c/d7/e56cd79444ab655c5374bd308f0cb4cc.jpg\"/>"
      ],
      "text/plain": [
       "<IPython.core.display.Image object>"
      ]
     },
     "metadata": {},
     "output_type": "display_data"
    },
    {
     "name": "stdout",
     "output_type": "stream",
     "text": [
      "562527809680152064 {'probability': {'Somewhat Relevant': 0.13333333333333333, 'Not Relevant': 0.20000000000000001, 'Very Relevant': 0.66666666666666663}}\n",
      "manualidades||\n"
     ]
    },
    {
     "data": {
      "text/html": [
       "<img src=\"https://crowdycrowdy.com/images/s-media-cache-ak0.pinimg.com/236x/37/e2/b6/37e2b64975654cad94ad4271d3ee6f24.jpg\"/>"
      ],
      "text/plain": [
       "<IPython.core.display.Image object>"
      ]
     },
     "metadata": {},
     "output_type": "display_data"
    },
    {
     "name": "stdout",
     "output_type": "stream",
     "text": [
      "227924431116382720 {'probability': {'Somewhat Relevant': 0.055555555555555552, 'Not Relevant': 0.055555555555555552, 'Very Relevant': 0.88888888888888884}}\n",
      "upcycle||Dishfunctional Designs: Neat Things You Can Make With Cookie Cutters\n"
     ]
    },
    {
     "data": {
      "text/html": [
       "<img src=\"https://crowdycrowdy.com/images/s-media-cache-ak0.pinimg.com/236x/c4/6a/b8/c46ab88b6507274731752653b39d5d54.jpg\"/>"
      ],
      "text/plain": [
       "<IPython.core.display.Image object>"
      ]
     },
     "metadata": {},
     "output_type": "display_data"
    },
    {
     "name": "stdout",
     "output_type": "stream",
     "text": [
      "110690103315494464 {'probability': {'Somewhat Relevant': 0.57894736842105265, 'Not Relevant': 0.26315789473684209, 'Very Relevant': 0.15789473684210525}}\n",
      "Recycle, Upcycle :: Donna Shipley-Richie's clipboard on||Hometalk :: Recycle, Upcycle :: Donna Shipley-Richie's clipboard on Hometalk Burlap Boxes\n"
     ]
    },
    {
     "data": {
      "text/html": [
       "<img src=\"https://crowdycrowdy.com/images/s-media-cache-ak0.pinimg.com/236x/e7/37/1b/e7371b13c93541974489ab4530dcfac8.jpg\"/>"
      ],
      "text/plain": [
       "<IPython.core.display.Image object>"
      ]
     },
     "metadata": {},
     "output_type": "display_data"
    },
    {
     "data": {
      "text/html": [
       "<h2>buffalo chicken dip(55c25383c7ed2ff20c44da15)</h2>"
      ],
      "text/plain": [
       "<IPython.core.display.HTML object>"
      ]
     },
     "metadata": {},
     "output_type": "display_data"
    },
    {
     "name": "stdout",
     "output_type": "stream",
     "text": [
      "95138610847720400 {'probability': {'Somewhat Relevant': 0.375, 'Not Relevant': 0.625, 'Very Relevant': 0.0}}\n",
      "Good Eats||Buffalo Chicken Sandwiches\n"
     ]
    },
    {
     "data": {
      "text/html": [
       "<img src=\"https://crowdycrowdy.com/images/s-media-cache-ak0.pinimg.com/236x/8f/76/65/8f766542a8a449e0618d04d0fd5bcf98.jpg\"/>"
      ],
      "text/plain": [
       "<IPython.core.display.Image object>"
      ]
     },
     "metadata": {},
     "output_type": "display_data"
    },
    {
     "name": "stdout",
     "output_type": "stream",
     "text": [
      "556476097677337664 {'probability': {'Somewhat Relevant': 0.20000000000000001, 'Not Relevant': 0.80000000000000004, 'Very Relevant': 0.0}}\n",
      "Food and Drink||Bacon Wrapped Chicken And Asparagus I used the same marinade for the chicken and asparagus and put some Philly 3 cheese cooking cream in the middle\n"
     ]
    },
    {
     "data": {
      "text/html": [
       "<img src=\"https://crowdycrowdy.com/images/s-media-cache-ak0.pinimg.com/236x/df/75/a6/df75a6399601be909c3e8d9de2584f74.jpg\"/>"
      ],
      "text/plain": [
       "<IPython.core.display.Image object>"
      ]
     },
     "metadata": {},
     "output_type": "display_data"
    },
    {
     "name": "stdout",
     "output_type": "stream",
     "text": [
      "120260252519728784 {'probability': {'Somewhat Relevant': 0.41176470588235292, 'Not Relevant': 0.52941176470588236, 'Very Relevant': 0.058823529411764705}}\n",
      "Chicken with Tomatoes and Prunes||Chicken with tomatoes and prunes... could be wonderful?    UPDATE: Made this tonight, it was very delish!  I might mess around with the cooking times for the chicken itself as it ended up being a little overcooked, but otherwise totally tasty!\n"
     ]
    },
    {
     "data": {
      "text/html": [
       "<img src=\"https://crowdycrowdy.com/images/s-media-cache-ak0.pinimg.com/236x/d2/95/0f/d2950fb7ab3908e704dcca327264ba6c.jpg\"/>"
      ],
      "text/plain": [
       "<IPython.core.display.Image object>"
      ]
     },
     "metadata": {},
     "output_type": "display_data"
    },
    {
     "name": "stdout",
     "output_type": "stream",
     "text": [
      "3659243419266073 {'probability': {'Somewhat Relevant': 0.1875, 'Not Relevant': 0.6875, 'Very Relevant': 0.125}}\n",
      "Made By Yours Truly||Stuffed Buffalo Chicken\n"
     ]
    },
    {
     "data": {
      "text/html": [
       "<img src=\"https://crowdycrowdy.com/images/s-media-cache-ak0.pinimg.com/236x/4a/23/2e/4a232e6dd0799d36288118da9cd50500.jpg\"/>"
      ],
      "text/plain": [
       "<IPython.core.display.Image object>"
      ]
     },
     "metadata": {},
     "output_type": "display_data"
    },
    {
     "name": "stdout",
     "output_type": "stream",
     "text": [
      "160651911678677888 {'probability': {'Somewhat Relevant': 0.25, 'Not Relevant': 0.6875, 'Very Relevant': 0.0625}}\n",
      "Healthy Curry Gluten-Free Chicken Nuggets Recipe||Healthy Curry Gluten-Free Chicken Nuggets - Egg-Free too!\n"
     ]
    },
    {
     "data": {
      "text/html": [
       "<img src=\"https://crowdycrowdy.com/images/s-media-cache-ak0.pinimg.com/236x/c0/c9/3f/c0c93f1f46eacd65eacde84c1fe9679c.jpg\"/>"
      ],
      "text/plain": [
       "<IPython.core.display.Image object>"
      ]
     },
     "metadata": {},
     "output_type": "display_data"
    },
    {
     "name": "stdout",
     "output_type": "stream",
     "text": [
      "250583166740527840 {'probability': {'Somewhat Relevant': 0.11764705882352941, 'Not Relevant': 0.88235294117647056, 'Very Relevant': 0.0}}\n",
      "Food||Skinny Chef Red Hot Buffalo Chicken Wings\n"
     ]
    },
    {
     "data": {
      "text/html": [
       "<img src=\"https://crowdycrowdy.com/images/s-media-cache-ak0.pinimg.com/236x/70/22/d4/7022d4ab604ff06fc61fb5001c340328.jpg\"/>"
      ],
      "text/plain": [
       "<IPython.core.display.Image object>"
      ]
     },
     "metadata": {},
     "output_type": "display_data"
    },
    {
     "name": "stdout",
     "output_type": "stream",
     "text": [
      "238901955206268064 {'probability': {'Somewhat Relevant': 0.52941176470588236, 'Not Relevant': 0.35294117647058826, 'Very Relevant': 0.11764705882352941}}\n",
      "I love food - chicken||Buffalo chicken and celery\n"
     ]
    },
    {
     "data": {
      "text/html": [
       "<img src=\"https://crowdycrowdy.com/images/s-media-cache-ak0.pinimg.com/236x/ab/2b/41/ab2b41696a1245b6c248bc24b745c804.jpg\"/>"
      ],
      "text/plain": [
       "<IPython.core.display.Image object>"
      ]
     },
     "metadata": {},
     "output_type": "display_data"
    },
    {
     "name": "stdout",
     "output_type": "stream",
     "text": [
      "511510470150033024 {'probability': {'Somewhat Relevant': 0.25, 'Not Relevant': 0.375, 'Very Relevant': 0.375}}\n",
      "Cherry Chipotle Chicken Wings For Game Day||“Is the big football game a must see in your house? This year I will be making cherry chipotle chicken wings…. Oh my word. I made them the other day and have made another batch since. I would be too crazy not to share them with my friends and family as we cheer on our favorite football team on Feb. 2nd. Give them a test run and fall in love.” - Babble.com\n"
     ]
    },
    {
     "data": {
      "text/html": [
       "<img src=\"https://crowdycrowdy.com/images/s-media-cache-ak0.pinimg.com/236x/39/18/10/39181059d8b6eb13e3a56e3ea26983a4.jpg\"/>"
      ],
      "text/plain": [
       "<IPython.core.display.Image object>"
      ]
     },
     "metadata": {},
     "output_type": "display_data"
    },
    {
     "name": "stdout",
     "output_type": "stream",
     "text": [
      "8514686766779371 {'probability': {'Somewhat Relevant': 0.058823529411764705, 'Not Relevant': 0.88235294117647056, 'Very Relevant': 0.058823529411764705}}\n",
      "Chicken Meatball Soup||Our Greek-Style Chicken Meatballs recipe is a fresh addition to a classic chicken noodle soup with vegetables in this Chicken Meatball Soup. #recipes #soup #comfortfood\n"
     ]
    },
    {
     "data": {
      "text/html": [
       "<img src=\"https://crowdycrowdy.com/images/s-media-cache-ak0.pinimg.com/236x/61/e0/7d/61e07d80831d4cd22bc8290c46f40c94.jpg\"/>"
      ],
      "text/plain": [
       "<IPython.core.display.Image object>"
      ]
     },
     "metadata": {},
     "output_type": "display_data"
    },
    {
     "name": "stdout",
     "output_type": "stream",
     "text": [
      "23643966764345764 {'probability': {'Somewhat Relevant': 0.0, 'Not Relevant': 1.0, 'Very Relevant': 0.0}}\n",
      "My Favorite Recipes||Chicken Curry Salad in a Hurry Allrecipes.com.  This is a great \"grab and go\" recipe if you're swinging by the market.  I usually omit the hard boiled eggs unless we happen to have some on hand.\n"
     ]
    },
    {
     "data": {
      "text/html": [
       "<img src=\"https://crowdycrowdy.com/images/s-media-cache-ak0.pinimg.com/236x/e6/4c/e1/e64ce14116920ce5ceea637bd928d18c.jpg\"/>"
      ],
      "text/plain": [
       "<IPython.core.display.Image object>"
      ]
     },
     "metadata": {},
     "output_type": "display_data"
    }
   ],
   "source": [
    "from IPython.display import Image, display, HTML\n",
    "for sample in finalSample:\n",
    "    display(HTML(\"<h2>%s(%s)</h2>\"%(sample['meta']['query'], sample['_id'])))\n",
    "    for item in sample['items']:\n",
    "        print \"%.0f\"%item, getProb(sample['meta']['query'], item)\n",
    "        print pinDetails[item]\n",
    "        display(Image(url=pinRef[item]))"
   ]
  }
 ],
 "metadata": {
  "kernelspec": {
   "display_name": "Python 2",
   "language": "python",
   "name": "python2"
  },
  "language_info": {
   "codemirror_mode": {
    "name": "ipython",
    "version": 2
   },
   "file_extension": ".py",
   "mimetype": "text/x-python",
   "name": "python",
   "nbconvert_exporter": "python",
   "pygments_lexer": "ipython2",
   "version": "2.7.9"
  }
 },
 "nbformat": 4,
 "nbformat_minor": 0
}
