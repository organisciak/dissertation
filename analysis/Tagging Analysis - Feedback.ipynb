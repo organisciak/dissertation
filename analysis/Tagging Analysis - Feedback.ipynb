{
 "cells": [
  {
   "cell_type": "markdown",
   "metadata": {},
   "source": [
    "# Feedback Analysis - Tagging Task"
   ]
  },
  {
   "cell_type": "code",
   "execution_count": 5,
   "metadata": {
    "collapsed": false
   },
   "outputs": [],
   "source": [
    "%matplotlib inline\n",
    "import pandas as pd\n",
    "import numpy as np\n",
    "import matplotlib.pyplot as plt\n",
    "import seaborn as sns\n",
    "from pymongo import MongoClient\n",
    "client = MongoClient('localhost')\n",
    "db = client['crowdy']"
   ]
  },
  {
   "cell_type": "code",
   "execution_count": 6,
   "metadata": {
    "collapsed": false
   },
   "outputs": [],
   "source": [
    "db.collection_names()\n",
    "hits = db.hits\n",
    "ts = db.tasksets"
   ]
  },
  {
   "cell_type": "markdown",
   "metadata": {
    "collapsed": true
   },
   "source": [
    "## Feedback Scores\n",
    "\n",
    "How satisfied were people with the tasks?"
   ]
  },
  {
   "cell_type": "code",
   "execution_count": 150,
   "metadata": {
    "collapsed": false,
    "scrolled": true
   },
   "outputs": [
    {
     "data": {
      "text/plain": [
       "_id              object\n",
       "hit_id           object\n",
       "pay             float64\n",
       "satisfaction    float64\n",
       "text             object\n",
       "dtype: object"
      ]
     },
     "execution_count": 150,
     "metadata": {},
     "output_type": "execute_result"
    }
   ],
   "source": [
    "fdbkraw = ts.aggregate([\n",
    "    {'$project': {'hit_id':1, 'pay':'$feedback.pay', 'satisfaction':'$feedback.satisfaction', 'text':'$feedback.form'}}\n",
    "])\n",
    "feedback = pd.DataFrame(list(fdbkraw)).convert_objects(convert_numeric=True)\n",
    "feedback.dtypes"
   ]
  },
  {
   "cell_type": "code",
   "execution_count": 161,
   "metadata": {
    "collapsed": false
   },
   "outputs": [
    {
     "data": {
      "text/html": [
       "<div>\n",
       "<table border=\"1\" class=\"dataframe\">\n",
       "  <thead>\n",
       "    <tr>\n",
       "      <th></th>\n",
       "      <th colspan=\"4\" halign=\"left\">pay</th>\n",
       "      <th colspan=\"4\" halign=\"left\">satisfaction</th>\n",
       "    </tr>\n",
       "    <tr>\n",
       "      <th></th>\n",
       "      <th>mean</th>\n",
       "      <th>median</th>\n",
       "      <th>var</th>\n",
       "      <th>len</th>\n",
       "      <th>mean</th>\n",
       "      <th>median</th>\n",
       "      <th>var</th>\n",
       "      <th>len</th>\n",
       "    </tr>\n",
       "    <tr>\n",
       "      <th>hit_id</th>\n",
       "      <th></th>\n",
       "      <th></th>\n",
       "      <th></th>\n",
       "      <th></th>\n",
       "      <th></th>\n",
       "      <th></th>\n",
       "      <th></th>\n",
       "      <th></th>\n",
       "    </tr>\n",
       "  </thead>\n",
       "  <tbody>\n",
       "    <tr>\n",
       "      <th>55911fb049eb7fef15c0f5c2</th>\n",
       "      <td>3.790698</td>\n",
       "      <td>4</td>\n",
       "      <td>0.931340</td>\n",
       "      <td>61</td>\n",
       "      <td>3.790698</td>\n",
       "      <td>4</td>\n",
       "      <td>0.740864</td>\n",
       "      <td>61</td>\n",
       "    </tr>\n",
       "    <tr>\n",
       "      <th>55a48ddcc8f17da574db50b7</th>\n",
       "      <td>3.947368</td>\n",
       "      <td>4</td>\n",
       "      <td>0.429587</td>\n",
       "      <td>72</td>\n",
       "      <td>4.184211</td>\n",
       "      <td>4</td>\n",
       "      <td>0.370555</td>\n",
       "      <td>72</td>\n",
       "    </tr>\n",
       "  </tbody>\n",
       "</table>\n",
       "</div>"
      ],
      "text/plain": [
       "                               pay                      satisfaction         \\\n",
       "                              mean median       var len         mean median   \n",
       "hit_id                                                                        \n",
       "55911fb049eb7fef15c0f5c2  3.790698      4  0.931340  61     3.790698      4   \n",
       "55a48ddcc8f17da574db50b7  3.947368      4  0.429587  72     4.184211      4   \n",
       "\n",
       "                                        \n",
       "                               var len  \n",
       "hit_id                                  \n",
       "55911fb049eb7fef15c0f5c2  0.740864  61  \n",
       "55a48ddcc8f17da574db50b7  0.370555  72  "
      ]
     },
     "execution_count": 161,
     "metadata": {},
     "output_type": "execute_result"
    }
   ],
   "source": [
    "groups = feedback[['hit_id', 'pay', 'satisfaction']].groupby('hit_id')\n",
    "groups.agg([np.mean, np.median, np.var, len])"
   ]
  },
  {
   "cell_type": "code",
   "execution_count": 175,
   "metadata": {
    "collapsed": false
   },
   "outputs": [
    {
     "data": {
      "text/plain": [
       "<seaborn.axisgrid.FacetGrid at 0x7f0ed17fab10>"
      ]
     },
     "execution_count": 175,
     "metadata": {},
     "output_type": "execute_result"
    },
    {
     "data": {
      "image/png": "[encoded data removed]",
      "text/plain": [
       "<matplotlib.figure.Figure at 0x7f0ed17fa6d0>"
      ]
     },
     "metadata": {},
     "output_type": "display_data"
    }
   ],
   "source": [
    "g = sns.FacetGrid(feedback, col='hit_id', margin_titles=True)\n",
    "bins = np.linspace(1, 0.1, 1)\n",
    "g.map(sns.distplot, \"satisfaction\", bins=bins)"
   ]
  },
  {
   "cell_type": "code",
   "execution_count": 11,
   "metadata": {
    "collapsed": false
   },
   "outputs": [
    {
     "data": {
      "text/html": [
       "<div>\n",
       "<table border=\"1\" class=\"dataframe\">\n",
       "  <thead>\n",
       "    <tr style=\"text-align: right;\">\n",
       "      <th></th>\n",
       "      <th>timeSpent</th>\n",
       "    </tr>\n",
       "    <tr>\n",
       "      <th>hit_id</th>\n",
       "      <th></th>\n",
       "    </tr>\n",
       "  </thead>\n",
       "  <tbody>\n",
       "    <tr>\n",
       "      <th>55911fb049eb7fef15c0f5c2</th>\n",
       "      <td>23.879284</td>\n",
       "    </tr>\n",
       "    <tr>\n",
       "      <th>55a48ddcc8f17da574db50b7</th>\n",
       "      <td>11.459299</td>\n",
       "    </tr>\n",
       "  </tbody>\n",
       "</table>\n",
       "</div>"
      ],
      "text/plain": [
       "                          timeSpent\n",
       "hit_id                             \n",
       "55911fb049eb7fef15c0f5c2  23.879284\n",
       "55a48ddcc8f17da574db50b7  11.459299"
      ]
     },
     "execution_count": 11,
     "metadata": {},
     "output_type": "execute_result"
    }
   ],
   "source": [
    "a.groupby('hit_id').mean()"
   ]
  },
  {
   "cell_type": "code",
   "execution_count": 12,
   "metadata": {
    "collapsed": false
   },
   "outputs": [
    {
     "data": {
      "text/html": [
       "<div>\n",
       "<table border=\"1\" class=\"dataframe\">\n",
       "  <thead>\n",
       "    <tr style=\"text-align: right;\">\n",
       "      <th></th>\n",
       "      <th>timeSpent</th>\n",
       "    </tr>\n",
       "    <tr>\n",
       "      <th>hit_id</th>\n",
       "      <th></th>\n",
       "    </tr>\n",
       "  </thead>\n",
       "  <tbody>\n",
       "    <tr>\n",
       "      <th>55911fb049eb7fef15c0f5c2</th>\n",
       "      <td>18.3165</td>\n",
       "    </tr>\n",
       "    <tr>\n",
       "      <th>55a48ddcc8f17da574db50b7</th>\n",
       "      <td>6.9390</td>\n",
       "    </tr>\n",
       "  </tbody>\n",
       "</table>\n",
       "</div>"
      ],
      "text/plain": [
       "                          timeSpent\n",
       "hit_id                             \n",
       "55911fb049eb7fef15c0f5c2    18.3165\n",
       "55a48ddcc8f17da574db50b7     6.9390"
      ]
     },
     "execution_count": 12,
     "metadata": {},
     "output_type": "execute_result"
    }
   ],
   "source": [
    "a.groupby('hit_id').median()"
   ]
  },
  {
   "cell_type": "code",
   "execution_count": 13,
   "metadata": {
    "collapsed": false
   },
   "outputs": [
    {
     "data": {
      "text/html": [
       "<div>\n",
       "<table border=\"1\" class=\"dataframe\">\n",
       "  <thead>\n",
       "    <tr style=\"text-align: right;\">\n",
       "      <th></th>\n",
       "      <th>_id</th>\n",
       "      <th>timeSpent</th>\n",
       "      <th>user</th>\n",
       "    </tr>\n",
       "    <tr>\n",
       "      <th>hit_id</th>\n",
       "      <th></th>\n",
       "      <th></th>\n",
       "      <th></th>\n",
       "    </tr>\n",
       "  </thead>\n",
       "  <tbody>\n",
       "    <tr>\n",
       "      <th>55911fb049eb7fef15c0f5c2</th>\n",
       "      <td>500</td>\n",
       "      <td>500</td>\n",
       "      <td>500</td>\n",
       "    </tr>\n",
       "    <tr>\n",
       "      <th>55a48ddcc8f17da574db50b7</th>\n",
       "      <td>500</td>\n",
       "      <td>498</td>\n",
       "      <td>500</td>\n",
       "    </tr>\n",
       "  </tbody>\n",
       "</table>\n",
       "</div>"
      ],
      "text/plain": [
       "                          _id  timeSpent  user\n",
       "hit_id                                        \n",
       "55911fb049eb7fef15c0f5c2  500        500   500\n",
       "55a48ddcc8f17da574db50b7  500        498   500"
      ]
     },
     "execution_count": 13,
     "metadata": {},
     "output_type": "execute_result"
    }
   ],
   "source": [
    "a.groupby('hit_id').count('timeSpent')"
   ]
  }
 ],
 "metadata": {
  "kernelspec": {
   "display_name": "Python 2",
   "language": "python",
   "name": "python2"
  },
  "language_info": {
   "codemirror_mode": {
    "name": "ipython",
    "version": 2
   },
   "file_extension": ".py",
   "mimetype": "text/x-python",
   "name": "python",
   "nbconvert_exporter": "python",
   "pygments_lexer": "ipython2",
   "version": "2.7.9"
  }
 },
 "nbformat": 4,
 "nbformat_minor": 0
}
